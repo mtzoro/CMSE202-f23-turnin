{
 "cells": [
  {
   "cell_type": "markdown",
   "metadata": {},
   "source": [
    "# Homework Assignment 4\n",
    "\n",
    "## Using the Perceptron, SVMs, and PCA with sonar data"
   ]
  },
  {
   "cell_type": "markdown",
   "metadata": {},
   "source": [
    "### <p style=\"text-align: right;\"> &#9989; Linjie Ma</p>\n",
    "### <p style=\"text-align: right;\"> &#9989; mtzoro</p>"
   ]
  },
  {
   "cell_type": "markdown",
   "metadata": {},
   "source": [
    "<img src=\"https://images.squarespace-cdn.com/content/v1/5497331ae4b0148a6141bd47/1533488464157-AYYS0QO7ZW0KPGOT6XRQ/underwater-sea-mine-danger-weapon-deadly-naval-ocean-sea_bpocqo-8__F0000.png?format=1500w\" width=400px align=\"right\" style=\"margin-left: 20px\" alt=\"Underwater naval mines\">\n",
    "\n",
    "### Goals for this homework assignment\n",
    "\n",
    "By the end of this assignment, you should be able to:\n",
    "* Use `git` and the branching functionality to track your work and turn in your assignment\n",
    "* Read in data and prepare it for modeling\n",
    "* Build, fit, and evaluate an SVC model of data\n",
    "* Use PCA to reduce the number of important features\n",
    "* Build, fit, and evaluate an SVC model of PCA-transformed data\n",
    "* Systematically investigate the effects of the number of PCA components on an SVC model of data\n",
    "\n",
    "### Assignment instructions:\n",
    "\n",
    "Work through the following assignment, making sure to follow all of the directions and answer all of the questions.\n",
    "\n",
    "There are **59 points** possible on this assignment. Point values for each part are included in the section headers.\n",
    "\n",
    "This assignment is **due by 11:59 pm on Friday, December 1. It should be pushed to your repo (see Part 1) AND submitted to D2L**. \n",
    "\n",
    "#### Imports\n",
    "\n",
    "It's useful to put all of the imports you need for this assignment in one place. Read through the assignment to figure out which imports you'll need or add them here as you go."
   ]
  },
  {
   "cell_type": "code",
   "execution_count": null,
   "metadata": {},
   "outputs": [],
   "source": [
    "# Put all necessary imports here\n"
   ]
  },
  {
   "cell_type": "markdown",
   "metadata": {},
   "source": [
    "---\n",
    "## Part 1: Git Repo Management and Branching (6 points)\n",
    "\n",
    "For this assignment, you're going to add it to the `cmse202-f23-turnin` repository you created in class so that you can track your progress on the assignment and preserve the final version that you turn in. In order to do this you need to\n",
    "\n",
    "**&#9989; Do the following**:\n",
    "\n",
    "1. Navigate to your `cmse202-f23-turnin` **local** repository and create a new directory called `hw-04`\n",
    "\n",
    "2. Move this notebook into that **new directory** in your repository, but **do not** add or commit it to your repository yet.\n",
    "\n",
    "3. Create a **new branch** called `hw04_branch` (The Day 16 PCA and ICA content has information on how to do this).\n",
    "\n",
    "4. \"Check out\" the new branch (so that you'll be working on that branch). \n",
    "\n",
    "5. Double check to make sure you are actually on that branch.\n",
    "\n",
    "6. Once you're certain you're working on your new branch, add this notebook to your repository, then make a commit and push it to GitHub. You may need to use `git push origin hw04_branch` to push your new branch to GitHub.\n",
    "\n",
    "Finally, &#9989; **Do this**: Before you move on, put the command that your instructor should run to clone your repository in the markdown cell below."
   ]
  },
  {
   "cell_type": "markdown",
   "metadata": {},
   "source": [
    "```bash\n",
    "https://github.com/mtzoro/CMSE202-f23-turnin.git\n",
    "```"
   ]
  },
  {
   "cell_type": "markdown",
   "metadata": {},
   "source": [
    "**Important**: Double check you've added your Professor and your TA as collaborators to your \"turnin\" repository (you should have done this in the previous homework assignment).\n",
    "\n",
    "**Also important**: Make sure that the version of this notebook that you are working on is the same one that you just added to your repository! If you are working on a different copy of the notebook, **none of your changes will be tracked**!\n",
    "\n",
    "If everything went as intended, the file should now show up on your GitHub account in the \"`cmse202-f23-turnin`\" repository inside the `hw-04` directory that you just created within the new branch `hw04_branch`.\n",
    "\n",
    "Periodically, **you'll be asked to commit your changes to the repository and push them to the remote GitHub location**. Of course, you can always commit your changes more often than that, if you wish.  It can be good to get into a habit of committing your changes any time you make a significant modification, or when you stop working on the project for a bit.\n"
   ]
  },
  {
   "cell_type": "markdown",
   "metadata": {},
   "source": [
    "---\n",
    "<a id=\"loading\"></a>\n",
    "## 2. Loading a the dataset: Sonar data measurements (7 points)\n",
    "\n",
    "You may or may not have had a chance to experiment with the sonar dataset provided in the Day 19 ICA extension assignment, but it's another common dataset used for testing out **binary classifiers**.\n",
    "\n",
    "Since the goal for this assignment is to practice using the Perceptron classifier, SVMs, and PCA tools we've covered in class, we'll going to use this relatively simple dataset and avoid any complicated data wrangling headaches!\n",
    " \n",
    "#### The data\n",
    "\n",
    "The sonar dataset is pretty straight forward, but you'll need to download the data and give yourself some time to get familiar with it.\n",
    "\n",
    "**&#9989; Do This:**  To get started, **you'll need to download the following file**:\n",
    "\n",
    "`https://raw.githubusercontent.com/msu-cmse-courses/cmse202-supplemental-data/main/data/sonar.csv`\n",
    "\n",
    "Once you've downloaded the data, **open the files using a text browser or other tool on your computer and take a look at the data to get a sense for the information it contains.** Make sure you take a moment to read the [UC Irvine Machine Learning Repository page](http://archive.ics.uci.edu/dataset/151/connectionist+bench+sonar+mines+vs+rocks) to understand exactly what is in this dataset, but essentially is a collection of sonar measurements of rocks and \"mines\" (metal cynlinders). "
   ]
  },
  {
   "cell_type": "markdown",
   "metadata": {},
   "source": [
    "**&#9989; Question 2.0 (2 points):** In your own words, what is the information contains in the sonar dataset? What does each column represent? What are the current labels in the dataset? Are they numeric or string format? What are the possible values for the labels?"
   ]
  },
  {
   "cell_type": "markdown",
   "metadata": {},
   "source": [
    "<font size=+3>&#9998;</font> The sonar dataset contains signals obtained from bouncing sonar signals off different surfaces and measuring the signal's strength at various angles. Each row represents a single observation. Each of the 60 attributes represents the energy within a particular frequency band, integrated over a certain period of time. These attributes are numeric and are likely to be different energy measurements at sequential times or angles. The Class column contains labels that classify each observation as either a Rock or Mine, where these are now encoded as 1 for Rock and 0 for Mine."
   ]
  },
  {
   "cell_type": "markdown",
   "metadata": {},
   "source": [
    "### 2.1 Load the data\n",
    "\n",
    "**&#9989; Task 2.1 (1 point):** Read the ```sonar.csv``` file into your notebook. Perhaps unsurprisingly, we're going to use \"Class\" column as the classes that we'll be trying to predict with our classification model.\n",
    "\n",
    "Once you've loaded in the data, **display the DataFrame to make sure it looks reasonable**. You should have **61 columns** and **208 rows**."
   ]
  },
  {
   "cell_type": "code",
   "execution_count": 1,
   "metadata": {},
   "outputs": [
    {
     "name": "stdout",
     "output_type": "stream",
     "text": [
      "   attribute_1  attribute_2  attribute_3  attribute_4  attribute_5  \\\n",
      "0       0.0200       0.0371       0.0428       0.0207       0.0954   \n",
      "1       0.0453       0.0523       0.0843       0.0689       0.1183   \n",
      "2       0.0262       0.0582       0.1099       0.1083       0.0974   \n",
      "3       0.0100       0.0171       0.0623       0.0205       0.0205   \n",
      "4       0.0762       0.0666       0.0481       0.0394       0.0590   \n",
      "\n",
      "   attribute_6  attribute_7  attribute_8  attribute_9  attribute_10  ...  \\\n",
      "0       0.0986       0.1539       0.1601       0.3109        0.2111  ...   \n",
      "1       0.2583       0.2156       0.3481       0.3337        0.2872  ...   \n",
      "2       0.2280       0.2431       0.3771       0.5598        0.6194  ...   \n",
      "3       0.0368       0.1098       0.1276       0.0598        0.1264  ...   \n",
      "4       0.0649       0.1209       0.2467       0.3564        0.4459  ...   \n",
      "\n",
      "   attribute_52  attribute_53  attribute_54  attribute_55  attribute_56  \\\n",
      "0        0.0027        0.0065        0.0159        0.0072        0.0167   \n",
      "1        0.0084        0.0089        0.0048        0.0094        0.0191   \n",
      "2        0.0232        0.0166        0.0095        0.0180        0.0244   \n",
      "3        0.0121        0.0036        0.0150        0.0085        0.0073   \n",
      "4        0.0031        0.0054        0.0105        0.0110        0.0015   \n",
      "\n",
      "   attribute_57  attribute_58  attribute_59  attribute_60  Class  \n",
      "0        0.0180        0.0084        0.0090        0.0032   Rock  \n",
      "1        0.0140        0.0049        0.0052        0.0044   Rock  \n",
      "2        0.0316        0.0164        0.0095        0.0078   Rock  \n",
      "3        0.0050        0.0044        0.0040        0.0117   Rock  \n",
      "4        0.0072        0.0048        0.0107        0.0094   Rock  \n",
      "\n",
      "[5 rows x 61 columns]\n",
      "(208, 61)\n"
     ]
    }
   ],
   "source": [
    "# Put your code here\n",
    "import pandas as pd\n",
    "\n",
    "sonar_data = pd.read_csv('sonar.csv')\n",
    "\n",
    "print(sonar_data.head())  \n",
    "print(sonar_data.shape) "
   ]
  },
  {
   "cell_type": "markdown",
   "metadata": {},
   "source": [
    "### 2.2 Relabeling the classes\n",
    "\n",
    "To simplify the process of modeling the sonar data, we should convert the class labels from strings to integers. For example, rather than `Rock`, we can consider this to be class \"`1`\".\n",
    "\n",
    "**&#9989; Task 2.2 (2 points):** Replace all of the strings in your \"Class\" column with integers based on the following:\n",
    "\n",
    "| original label | replaced label |\n",
    "| -------- | -------- |\n",
    "| Rock | 1 |\n",
    "| Mine | 0 |\n",
    "\n",
    "Once you've replaced the labels, display your DataFrame and confirm that it looks correct."
   ]
  },
  {
   "cell_type": "code",
   "execution_count": 2,
   "metadata": {},
   "outputs": [
    {
     "name": "stdout",
     "output_type": "stream",
     "text": [
      "   attribute_1  attribute_2  attribute_3  attribute_4  attribute_5  \\\n",
      "0       0.0200       0.0371       0.0428       0.0207       0.0954   \n",
      "1       0.0453       0.0523       0.0843       0.0689       0.1183   \n",
      "2       0.0262       0.0582       0.1099       0.1083       0.0974   \n",
      "3       0.0100       0.0171       0.0623       0.0205       0.0205   \n",
      "4       0.0762       0.0666       0.0481       0.0394       0.0590   \n",
      "\n",
      "   attribute_6  attribute_7  attribute_8  attribute_9  attribute_10  ...  \\\n",
      "0       0.0986       0.1539       0.1601       0.3109        0.2111  ...   \n",
      "1       0.2583       0.2156       0.3481       0.3337        0.2872  ...   \n",
      "2       0.2280       0.2431       0.3771       0.5598        0.6194  ...   \n",
      "3       0.0368       0.1098       0.1276       0.0598        0.1264  ...   \n",
      "4       0.0649       0.1209       0.2467       0.3564        0.4459  ...   \n",
      "\n",
      "   attribute_52  attribute_53  attribute_54  attribute_55  attribute_56  \\\n",
      "0        0.0027        0.0065        0.0159        0.0072        0.0167   \n",
      "1        0.0084        0.0089        0.0048        0.0094        0.0191   \n",
      "2        0.0232        0.0166        0.0095        0.0180        0.0244   \n",
      "3        0.0121        0.0036        0.0150        0.0085        0.0073   \n",
      "4        0.0031        0.0054        0.0105        0.0110        0.0015   \n",
      "\n",
      "   attribute_57  attribute_58  attribute_59  attribute_60  Class  \n",
      "0        0.0180        0.0084        0.0090        0.0032      1  \n",
      "1        0.0140        0.0049        0.0052        0.0044      1  \n",
      "2        0.0316        0.0164        0.0095        0.0078      1  \n",
      "3        0.0050        0.0044        0.0040        0.0117      1  \n",
      "4        0.0072        0.0048        0.0107        0.0094      1  \n",
      "\n",
      "[5 rows x 61 columns]\n"
     ]
    }
   ],
   "source": [
    "# Put your code here\n",
    "class_mapping = {'Rock': 1, 'Mine': 0}\n",
    "sonar_data['Class'] = sonar_data['Class'].map(class_mapping)\n",
    "\n",
    "print(sonar_data.head()) "
   ]
  },
  {
   "cell_type": "markdown",
   "metadata": {},
   "source": [
    "### 2.3 Separating the \"features\" from the \"labels\"\n",
    "\n",
    "As we've seen when working with `sklearn` it can be much easier to work with the data if we have separate variables that store the features and the labels.\n",
    "\n",
    "**&#9989; Task 2.3 (1 point):** Split your DataFrame so that you have two separate DataFrames, one called `features`, which contains all of the sonar features, and one called `labels`, which contains all of the *new* sonar integer labels you just created. **Display both of these new DataFrames to make sure they look correct.**"
   ]
  },
  {
   "cell_type": "code",
   "execution_count": 3,
   "metadata": {},
   "outputs": [
    {
     "data": {
      "text/plain": [
       "0    1\n",
       "1    1\n",
       "2    1\n",
       "3    1\n",
       "4    1\n",
       "Name: Class, dtype: int64"
      ]
     },
     "execution_count": 3,
     "metadata": {},
     "output_type": "execute_result"
    }
   ],
   "source": [
    "# Put your code here\n",
    "features = sonar_data.drop('Class', axis=1) \n",
    "labels = sonar_data['Class'] \n",
    "\n",
    "features_head = features.head()\n",
    "labels_head = labels.head()\n",
    "\n",
    "features_head\n",
    "labels_head"
   ]
  },
  {
   "cell_type": "markdown",
   "metadata": {},
   "source": [
    "&#9989; **Question 2.1 (1 point):** How balanced is your set of sonar classes? Does it matter for the set of classes to be balanced? Why or why not? (You might need to write a bit of code to figure out how balanced your set of sonar classes is.)"
   ]
  },
  {
   "cell_type": "code",
   "execution_count": 4,
   "metadata": {},
   "outputs": [
    {
     "data": {
      "text/plain": [
       "(   attribute_1  attribute_2  attribute_3  attribute_4  attribute_5  \\\n",
       " 0       0.0200       0.0371       0.0428       0.0207       0.0954   \n",
       " 1       0.0453       0.0523       0.0843       0.0689       0.1183   \n",
       " 2       0.0262       0.0582       0.1099       0.1083       0.0974   \n",
       " 3       0.0100       0.0171       0.0623       0.0205       0.0205   \n",
       " 4       0.0762       0.0666       0.0481       0.0394       0.0590   \n",
       " \n",
       "    attribute_6  attribute_7  attribute_8  attribute_9  attribute_10  ...  \\\n",
       " 0       0.0986       0.1539       0.1601       0.3109        0.2111  ...   \n",
       " 1       0.2583       0.2156       0.3481       0.3337        0.2872  ...   \n",
       " 2       0.2280       0.2431       0.3771       0.5598        0.6194  ...   \n",
       " 3       0.0368       0.1098       0.1276       0.0598        0.1264  ...   \n",
       " 4       0.0649       0.1209       0.2467       0.3564        0.4459  ...   \n",
       " \n",
       "    attribute_51  attribute_52  attribute_53  attribute_54  attribute_55  \\\n",
       " 0        0.0232        0.0027        0.0065        0.0159        0.0072   \n",
       " 1        0.0125        0.0084        0.0089        0.0048        0.0094   \n",
       " 2        0.0033        0.0232        0.0166        0.0095        0.0180   \n",
       " 3        0.0241        0.0121        0.0036        0.0150        0.0085   \n",
       " 4        0.0156        0.0031        0.0054        0.0105        0.0110   \n",
       " \n",
       "    attribute_56  attribute_57  attribute_58  attribute_59  attribute_60  \n",
       " 0        0.0167        0.0180        0.0084        0.0090        0.0032  \n",
       " 1        0.0191        0.0140        0.0049        0.0052        0.0044  \n",
       " 2        0.0244        0.0316        0.0164        0.0095        0.0078  \n",
       " 3        0.0073        0.0050        0.0044        0.0040        0.0117  \n",
       " 4        0.0015        0.0072        0.0048        0.0107        0.0094  \n",
       " \n",
       " [5 rows x 60 columns],\n",
       " 0    1\n",
       " 1    1\n",
       " 2    1\n",
       " 3    1\n",
       " 4    1\n",
       " Name: Class, dtype: int64,\n",
       " 0    111\n",
       " 1     97\n",
       " Name: Class, dtype: int64,\n",
       " 0    0.533654\n",
       " 1    0.466346\n",
       " Name: Class, dtype: float64)"
      ]
     },
     "execution_count": 4,
     "metadata": {},
     "output_type": "execute_result"
    }
   ],
   "source": [
    "class_counts = labels.value_counts()\n",
    "class_balance = class_counts / len(labels) \n",
    "features_head, labels_head, class_counts, class_balance"
   ]
  },
  {
   "cell_type": "markdown",
   "metadata": {},
   "source": [
    "<font size=+3>&#9998;</font> Erase this and put your answer here."
   ]
  },
  {
   "cell_type": "markdown",
   "metadata": {},
   "source": [
    "---\n",
    "### &#128721; STOP\n",
    "**Pause to commit your changes to your Git repository!**\n",
    "\n",
    "Take a moment to save your notebook, commit the changes to your Git repository `hw04_branch` using the commit message \"Committing Part 2\", and push the changes to GitHub.\n",
    "\n",
    "---"
   ]
  },
  {
   "cell_type": "markdown",
   "metadata": {},
   "source": [
    "---\n",
    "## 3. Building an SVC model (4 points)\n",
    "\n",
    "Now, to tackle this classification problem, we will use a support vector machine just like we've done previously (e.g. in the **Day 20 and Day 21 assignments**). Of course, we could easily replace this with any `sklearn` classifier we choose, but for now we will just use an SVC with a linear kernel.\n",
    "\n",
    "### 3.1 Splitting the data\n",
    "\n",
    "But first, we need to split our data into training and testing data!\n",
    "\n",
    "**&#9989; Task 3.1 (1 point):** Split your data into a training and testing set with a training set representing 75% of your data. For reproducibility , set the `random_state` argument to `8675309`. Print the lengths to show you have the right number of entries."
   ]
  },
  {
   "cell_type": "code",
   "execution_count": 5,
   "metadata": {},
   "outputs": [
    {
     "data": {
      "text/plain": [
       "(156, 52)"
      ]
     },
     "execution_count": 5,
     "metadata": {},
     "output_type": "execute_result"
    }
   ],
   "source": [
    "# Put your code here\n",
    "from sklearn.model_selection import train_test_split\n",
    "from sklearn.svm import SVC\n",
    "from sklearn.metrics import confusion_matrix, classification_report\n",
    "\n",
    "X_train, X_test, y_train, y_test = train_test_split(\n",
    "    features, labels, test_size=0.25, random_state=8675309\n",
    ")\n",
    "\n",
    "train_length = len(X_train)\n",
    "test_length = len(X_test)\n",
    "\n",
    "train_length, test_length"
   ]
  },
  {
   "cell_type": "markdown",
   "metadata": {},
   "source": [
    "### 3.2 Modeling the data and evaluating the fit\n",
    "\n",
    "As you have done this a number of times at this point, we ask you to do most of the analysis for this problem in one cell.\n",
    "\n",
    "**&#9989; Task 3.2 (2 points):** Build a **linear** kernel SVC model with `C=1.0`, fit it to the training set, and use the test features to predict the outcomes. Evaluate the fit using the **confusion matrix** and **classification report**.\n",
    "\n",
    "**First Note:** Double-check the documentation on the confusion matrix because the way `sklearn` outputs false positives and false negatives may be different from what most images on the web indicate.\n",
    "\n",
    "**Second Note:** You should not be performing a \"grid search\" for this model. We're just trying to get a baseline for how well the model performs, but fitting a single SVC model using the `SVC` class from sklearn."
   ]
  },
  {
   "cell_type": "code",
   "execution_count": 6,
   "metadata": {},
   "outputs": [
    {
     "data": {
      "text/plain": [
       "(array([[24,  4],\n",
       "        [ 6, 18]]),\n",
       " '              precision    recall  f1-score   support\\n\\n           0       0.80      0.86      0.83        28\\n           1       0.82      0.75      0.78        24\\n\\n    accuracy                           0.81        52\\n   macro avg       0.81      0.80      0.81        52\\nweighted avg       0.81      0.81      0.81        52\\n')"
      ]
     },
     "execution_count": 6,
     "metadata": {},
     "output_type": "execute_result"
    }
   ],
   "source": [
    "# Put your code here\n",
    "svc_model = SVC(kernel='linear', C=1.0)\n",
    "svc_model.fit(X_train, y_train)\n",
    "y_pred = svc_model.predict(X_test)\n",
    "\n",
    "conf_matrix = confusion_matrix(y_test, y_pred)\n",
    "class_report = classification_report(y_test, y_pred)\n",
    "\n",
    "train_length = len(X_train)\n",
    "test_length = len(X_test)\n",
    "\n",
    "conf_matrix, class_report"
   ]
  },
  {
   "cell_type": "markdown",
   "metadata": {},
   "source": [
    "&#9989; **Question 3.1 (1 point):** How accurate is your model? What evidence are you using to determine that? How many false positives and false negatives does it predict for each class?"
   ]
  },
  {
   "cell_type": "code",
   "execution_count": 7,
   "metadata": {},
   "outputs": [
    {
     "name": "stdout",
     "output_type": "stream",
     "text": [
      "Accuracy: 0.8076923076923077\n",
      "False Positives (Class 0): 4\n",
      "False Negatives (Class 1): 6\n"
     ]
    }
   ],
   "source": [
    "tp, fp, fn, tn = conf_matrix.ravel()\n",
    "\n",
    "accuracy = (tp + tn) / (tp + tn + fp + fn)\n",
    "\n",
    "print(\"Accuracy:\", accuracy)\n",
    "print(\"False Positives (Class 0):\", fp)\n",
    "print(\"False Negatives (Class 1):\", fn)"
   ]
  },
  {
   "cell_type": "markdown",
   "metadata": {},
   "source": [
    "<font size=+3>&#9998;</font> we can extract relevant information from the confusion matrix and the classification report.,print the accuracy and the number of false positives and false negatives for each class"
   ]
  },
  {
   "cell_type": "markdown",
   "metadata": {},
   "source": [
    "---\n",
    "### &#128721; STOP\n",
    "**Pause to commit your changes to your Git repository!**\n",
    "\n",
    "Take a moment to save your notebook, commit the changes to your Git repository `hw04_branch` using the commit message \"Committing Part 3\", and push the changes to GitHub.\n",
    "\n",
    "---"
   ]
  },
  {
   "cell_type": "markdown",
   "metadata": {},
   "source": [
    "---\n",
    "## 4. Finding and using the best hyperparameters (8 points)\n",
    "\n",
    "At this point, we have fit one model and determined it's performance, but is it the best model? We can use `GridSearchCV` to find the best model (given our choices of parameters). Once we do that, we will use that \"best\" model for making predictions. This is similar to what we did when working with the \"digits\" data and the \"faces\" data in the **Day 21 and Day 22 assignments**.\n",
    "\n",
    "**Note:** you would typically rerun this grid search in a production environment to continue to verify the best model, but we are not for the sake of speed.\n",
    "\n",
    "### 4.1 Performing a grid search\n",
    "\n",
    "**&#9989; Task 4.1 (4 points):** Using the following parameters `C` = `0.1`, `1.0`, `10.0`, `100.0`, `1000.0`, `1e4` and `gamma` = `1e-4`, `1e-3`, `0.01`, `0.1`, `1.0`, `10.0` for both a `linear` and `rbf` kernel use `GridSearchCV` with the `SVC()` model to find the best fit parameters. Once, you're run the grid search, print the \"best params\" that the grid search found (*hint*: there's an attribute associated with the GridSearchCV object that stores this information)."
   ]
  },
  {
   "cell_type": "code",
   "execution_count": 8,
   "metadata": {},
   "outputs": [
    {
     "name": "stdout",
     "output_type": "stream",
     "text": [
      "Fitting 5 folds for each of 72 candidates, totalling 360 fits\n",
      "[CV 1/5] END .............C=0.1, gamma=0.0001, kernel=linear; total time=   0.0s\n",
      "[CV 2/5] END .............C=0.1, gamma=0.0001, kernel=linear; total time=   0.0s\n",
      "[CV 3/5] END .............C=0.1, gamma=0.0001, kernel=linear; total time=   0.0s\n",
      "[CV 4/5] END .............C=0.1, gamma=0.0001, kernel=linear; total time=   0.0s\n",
      "[CV 5/5] END .............C=0.1, gamma=0.0001, kernel=linear; total time=   0.0s\n",
      "[CV 1/5] END ................C=0.1, gamma=0.0001, kernel=rbf; total time=   0.0s\n",
      "[CV 2/5] END ................C=0.1, gamma=0.0001, kernel=rbf; total time=   0.0s\n",
      "[CV 3/5] END ................C=0.1, gamma=0.0001, kernel=rbf; total time=   0.0s\n",
      "[CV 4/5] END ................C=0.1, gamma=0.0001, kernel=rbf; total time=   0.0s\n",
      "[CV 5/5] END ................C=0.1, gamma=0.0001, kernel=rbf; total time=   0.0s\n",
      "[CV 1/5] END ..............C=0.1, gamma=0.001, kernel=linear; total time=   0.0s\n",
      "[CV 2/5] END ..............C=0.1, gamma=0.001, kernel=linear; total time=   0.0s\n",
      "[CV 3/5] END ..............C=0.1, gamma=0.001, kernel=linear; total time=   0.0s\n",
      "[CV 4/5] END ..............C=0.1, gamma=0.001, kernel=linear; total time=   0.0s\n",
      "[CV 5/5] END ..............C=0.1, gamma=0.001, kernel=linear; total time=   0.0s\n",
      "[CV 1/5] END .................C=0.1, gamma=0.001, kernel=rbf; total time=   0.0s\n",
      "[CV 2/5] END .................C=0.1, gamma=0.001, kernel=rbf; total time=   0.0s\n",
      "[CV 3/5] END .................C=0.1, gamma=0.001, kernel=rbf; total time=   0.0s\n",
      "[CV 4/5] END .................C=0.1, gamma=0.001, kernel=rbf; total time=   0.0s\n",
      "[CV 5/5] END .................C=0.1, gamma=0.001, kernel=rbf; total time=   0.0s\n",
      "[CV 1/5] END ...............C=0.1, gamma=0.01, kernel=linear; total time=   0.0s\n",
      "[CV 2/5] END ...............C=0.1, gamma=0.01, kernel=linear; total time=   0.0s\n",
      "[CV 3/5] END ...............C=0.1, gamma=0.01, kernel=linear; total time=   0.0s\n",
      "[CV 4/5] END ...............C=0.1, gamma=0.01, kernel=linear; total time=   0.0s\n",
      "[CV 5/5] END ...............C=0.1, gamma=0.01, kernel=linear; total time=   0.0s\n",
      "[CV 1/5] END ..................C=0.1, gamma=0.01, kernel=rbf; total time=   0.0s\n",
      "[CV 2/5] END ..................C=0.1, gamma=0.01, kernel=rbf; total time=   0.0s\n",
      "[CV 3/5] END ..................C=0.1, gamma=0.01, kernel=rbf; total time=   0.0s\n",
      "[CV 4/5] END ..................C=0.1, gamma=0.01, kernel=rbf; total time=   0.0s\n",
      "[CV 5/5] END ..................C=0.1, gamma=0.01, kernel=rbf; total time=   0.0s\n",
      "[CV 1/5] END ................C=0.1, gamma=0.1, kernel=linear; total time=   0.0s\n",
      "[CV 2/5] END ................C=0.1, gamma=0.1, kernel=linear; total time=   0.0s\n",
      "[CV 3/5] END ................C=0.1, gamma=0.1, kernel=linear; total time=   0.0s\n",
      "[CV 4/5] END ................C=0.1, gamma=0.1, kernel=linear; total time=   0.0s\n",
      "[CV 5/5] END ................C=0.1, gamma=0.1, kernel=linear; total time=   0.0s\n",
      "[CV 1/5] END ...................C=0.1, gamma=0.1, kernel=rbf; total time=   0.0s\n",
      "[CV 2/5] END ...................C=0.1, gamma=0.1, kernel=rbf; total time=   0.0s\n",
      "[CV 3/5] END ...................C=0.1, gamma=0.1, kernel=rbf; total time=   0.0s\n",
      "[CV 4/5] END ...................C=0.1, gamma=0.1, kernel=rbf; total time=   0.0s\n",
      "[CV 5/5] END ...................C=0.1, gamma=0.1, kernel=rbf; total time=   0.0s\n",
      "[CV 1/5] END ................C=0.1, gamma=1.0, kernel=linear; total time=   0.0s\n",
      "[CV 2/5] END ................C=0.1, gamma=1.0, kernel=linear; total time=   0.0s\n",
      "[CV 3/5] END ................C=0.1, gamma=1.0, kernel=linear; total time=   0.0s\n",
      "[CV 4/5] END ................C=0.1, gamma=1.0, kernel=linear; total time=   0.0s\n",
      "[CV 5/5] END ................C=0.1, gamma=1.0, kernel=linear; total time=   0.0s\n",
      "[CV 1/5] END ...................C=0.1, gamma=1.0, kernel=rbf; total time=   0.0s\n",
      "[CV 2/5] END ...................C=0.1, gamma=1.0, kernel=rbf; total time=   0.0s\n",
      "[CV 3/5] END ...................C=0.1, gamma=1.0, kernel=rbf; total time=   0.0s\n",
      "[CV 4/5] END ...................C=0.1, gamma=1.0, kernel=rbf; total time=   0.0s\n",
      "[CV 5/5] END ...................C=0.1, gamma=1.0, kernel=rbf; total time=   0.0s\n",
      "[CV 1/5] END ...............C=0.1, gamma=10.0, kernel=linear; total time=   0.0s\n",
      "[CV 2/5] END ...............C=0.1, gamma=10.0, kernel=linear; total time=   0.0s\n",
      "[CV 3/5] END ...............C=0.1, gamma=10.0, kernel=linear; total time=   0.0s\n",
      "[CV 4/5] END ...............C=0.1, gamma=10.0, kernel=linear; total time=   0.0s\n",
      "[CV 5/5] END ...............C=0.1, gamma=10.0, kernel=linear; total time=   0.0s\n",
      "[CV 1/5] END ..................C=0.1, gamma=10.0, kernel=rbf; total time=   0.0s\n",
      "[CV 2/5] END ..................C=0.1, gamma=10.0, kernel=rbf; total time=   0.0s\n",
      "[CV 3/5] END ..................C=0.1, gamma=10.0, kernel=rbf; total time=   0.0s\n",
      "[CV 4/5] END ..................C=0.1, gamma=10.0, kernel=rbf; total time=   0.0s\n",
      "[CV 5/5] END ..................C=0.1, gamma=10.0, kernel=rbf; total time=   0.0s\n",
      "[CV 1/5] END ...............C=1, gamma=0.0001, kernel=linear; total time=   0.0s\n",
      "[CV 2/5] END ...............C=1, gamma=0.0001, kernel=linear; total time=   0.0s\n",
      "[CV 3/5] END ...............C=1, gamma=0.0001, kernel=linear; total time=   0.0s\n",
      "[CV 4/5] END ...............C=1, gamma=0.0001, kernel=linear; total time=   0.0s\n",
      "[CV 5/5] END ...............C=1, gamma=0.0001, kernel=linear; total time=   0.0s\n",
      "[CV 1/5] END ..................C=1, gamma=0.0001, kernel=rbf; total time=   0.0s\n",
      "[CV 2/5] END ..................C=1, gamma=0.0001, kernel=rbf; total time=   0.0s\n",
      "[CV 3/5] END ..................C=1, gamma=0.0001, kernel=rbf; total time=   0.0s\n",
      "[CV 4/5] END ..................C=1, gamma=0.0001, kernel=rbf; total time=   0.0s\n",
      "[CV 5/5] END ..................C=1, gamma=0.0001, kernel=rbf; total time=   0.0s\n",
      "[CV 1/5] END ................C=1, gamma=0.001, kernel=linear; total time=   0.0s\n",
      "[CV 2/5] END ................C=1, gamma=0.001, kernel=linear; total time=   0.0s\n",
      "[CV 3/5] END ................C=1, gamma=0.001, kernel=linear; total time=   0.0s\n",
      "[CV 4/5] END ................C=1, gamma=0.001, kernel=linear; total time=   0.0s\n",
      "[CV 5/5] END ................C=1, gamma=0.001, kernel=linear; total time=   0.0s\n",
      "[CV 1/5] END ...................C=1, gamma=0.001, kernel=rbf; total time=   0.0s\n",
      "[CV 2/5] END ...................C=1, gamma=0.001, kernel=rbf; total time=   0.0s\n",
      "[CV 3/5] END ...................C=1, gamma=0.001, kernel=rbf; total time=   0.0s\n",
      "[CV 4/5] END ...................C=1, gamma=0.001, kernel=rbf; total time=   0.0s\n",
      "[CV 5/5] END ...................C=1, gamma=0.001, kernel=rbf; total time=   0.0s\n",
      "[CV 1/5] END .................C=1, gamma=0.01, kernel=linear; total time=   0.0s\n",
      "[CV 2/5] END .................C=1, gamma=0.01, kernel=linear; total time=   0.0s\n",
      "[CV 3/5] END .................C=1, gamma=0.01, kernel=linear; total time=   0.0s\n",
      "[CV 4/5] END .................C=1, gamma=0.01, kernel=linear; total time=   0.0s\n",
      "[CV 5/5] END .................C=1, gamma=0.01, kernel=linear; total time=   0.0s\n",
      "[CV 1/5] END ....................C=1, gamma=0.01, kernel=rbf; total time=   0.0s\n",
      "[CV 2/5] END ....................C=1, gamma=0.01, kernel=rbf; total time=   0.0s\n",
      "[CV 3/5] END ....................C=1, gamma=0.01, kernel=rbf; total time=   0.0s\n",
      "[CV 4/5] END ....................C=1, gamma=0.01, kernel=rbf; total time=   0.0s\n",
      "[CV 5/5] END ....................C=1, gamma=0.01, kernel=rbf; total time=   0.0s\n",
      "[CV 1/5] END ..................C=1, gamma=0.1, kernel=linear; total time=   0.0s\n",
      "[CV 2/5] END ..................C=1, gamma=0.1, kernel=linear; total time=   0.0s\n",
      "[CV 3/5] END ..................C=1, gamma=0.1, kernel=linear; total time=   0.0s\n",
      "[CV 4/5] END ..................C=1, gamma=0.1, kernel=linear; total time=   0.0s\n",
      "[CV 5/5] END ..................C=1, gamma=0.1, kernel=linear; total time=   0.0s\n",
      "[CV 1/5] END .....................C=1, gamma=0.1, kernel=rbf; total time=   0.0s\n",
      "[CV 2/5] END .....................C=1, gamma=0.1, kernel=rbf; total time=   0.0s\n",
      "[CV 3/5] END .....................C=1, gamma=0.1, kernel=rbf; total time=   0.0s\n",
      "[CV 4/5] END .....................C=1, gamma=0.1, kernel=rbf; total time=   0.0s\n",
      "[CV 5/5] END .....................C=1, gamma=0.1, kernel=rbf; total time=   0.0s\n",
      "[CV 1/5] END ..................C=1, gamma=1.0, kernel=linear; total time=   0.0s\n",
      "[CV 2/5] END ..................C=1, gamma=1.0, kernel=linear; total time=   0.0s\n",
      "[CV 3/5] END ..................C=1, gamma=1.0, kernel=linear; total time=   0.0s\n",
      "[CV 4/5] END ..................C=1, gamma=1.0, kernel=linear; total time=   0.0s\n",
      "[CV 5/5] END ..................C=1, gamma=1.0, kernel=linear; total time=   0.0s\n",
      "[CV 1/5] END .....................C=1, gamma=1.0, kernel=rbf; total time=   0.0s\n",
      "[CV 2/5] END .....................C=1, gamma=1.0, kernel=rbf; total time=   0.0s\n",
      "[CV 3/5] END .....................C=1, gamma=1.0, kernel=rbf; total time=   0.0s\n",
      "[CV 4/5] END .....................C=1, gamma=1.0, kernel=rbf; total time=   0.0s\n",
      "[CV 5/5] END .....................C=1, gamma=1.0, kernel=rbf; total time=   0.0s\n",
      "[CV 1/5] END .................C=1, gamma=10.0, kernel=linear; total time=   0.0s\n",
      "[CV 2/5] END .................C=1, gamma=10.0, kernel=linear; total time=   0.0s\n",
      "[CV 3/5] END .................C=1, gamma=10.0, kernel=linear; total time=   0.0s\n",
      "[CV 4/5] END .................C=1, gamma=10.0, kernel=linear; total time=   0.0s\n",
      "[CV 5/5] END .................C=1, gamma=10.0, kernel=linear; total time=   0.0s\n",
      "[CV 1/5] END ....................C=1, gamma=10.0, kernel=rbf; total time=   0.0s\n",
      "[CV 2/5] END ....................C=1, gamma=10.0, kernel=rbf; total time=   0.0s\n",
      "[CV 3/5] END ....................C=1, gamma=10.0, kernel=rbf; total time=   0.0s\n",
      "[CV 4/5] END ....................C=1, gamma=10.0, kernel=rbf; total time=   0.0s\n",
      "[CV 5/5] END ....................C=1, gamma=10.0, kernel=rbf; total time=   0.0s\n",
      "[CV 1/5] END ..............C=10, gamma=0.0001, kernel=linear; total time=   0.0s\n",
      "[CV 2/5] END ..............C=10, gamma=0.0001, kernel=linear; total time=   0.0s\n",
      "[CV 3/5] END ..............C=10, gamma=0.0001, kernel=linear; total time=   0.0s\n",
      "[CV 4/5] END ..............C=10, gamma=0.0001, kernel=linear; total time=   0.0s\n",
      "[CV 5/5] END ..............C=10, gamma=0.0001, kernel=linear; total time=   0.0s\n",
      "[CV 1/5] END .................C=10, gamma=0.0001, kernel=rbf; total time=   0.0s\n",
      "[CV 2/5] END .................C=10, gamma=0.0001, kernel=rbf; total time=   0.0s\n",
      "[CV 3/5] END .................C=10, gamma=0.0001, kernel=rbf; total time=   0.0s\n",
      "[CV 4/5] END .................C=10, gamma=0.0001, kernel=rbf; total time=   0.0s\n",
      "[CV 5/5] END .................C=10, gamma=0.0001, kernel=rbf; total time=   0.0s\n",
      "[CV 1/5] END ...............C=10, gamma=0.001, kernel=linear; total time=   0.0s\n",
      "[CV 2/5] END ...............C=10, gamma=0.001, kernel=linear; total time=   0.0s\n",
      "[CV 3/5] END ...............C=10, gamma=0.001, kernel=linear; total time=   0.0s\n",
      "[CV 4/5] END ...............C=10, gamma=0.001, kernel=linear; total time=   0.0s\n",
      "[CV 5/5] END ...............C=10, gamma=0.001, kernel=linear; total time=   0.0s\n",
      "[CV 1/5] END ..................C=10, gamma=0.001, kernel=rbf; total time=   0.0s\n",
      "[CV 2/5] END ..................C=10, gamma=0.001, kernel=rbf; total time=   0.0s\n",
      "[CV 3/5] END ..................C=10, gamma=0.001, kernel=rbf; total time=   0.0s\n",
      "[CV 4/5] END ..................C=10, gamma=0.001, kernel=rbf; total time=   0.0s\n",
      "[CV 5/5] END ..................C=10, gamma=0.001, kernel=rbf; total time=   0.0s\n",
      "[CV 1/5] END ................C=10, gamma=0.01, kernel=linear; total time=   0.0s\n",
      "[CV 2/5] END ................C=10, gamma=0.01, kernel=linear; total time=   0.0s\n",
      "[CV 3/5] END ................C=10, gamma=0.01, kernel=linear; total time=   0.0s\n",
      "[CV 4/5] END ................C=10, gamma=0.01, kernel=linear; total time=   0.0s\n",
      "[CV 5/5] END ................C=10, gamma=0.01, kernel=linear; total time=   0.0s\n",
      "[CV 1/5] END ...................C=10, gamma=0.01, kernel=rbf; total time=   0.0s\n",
      "[CV 2/5] END ...................C=10, gamma=0.01, kernel=rbf; total time=   0.0s\n",
      "[CV 3/5] END ...................C=10, gamma=0.01, kernel=rbf; total time=   0.0s\n",
      "[CV 4/5] END ...................C=10, gamma=0.01, kernel=rbf; total time=   0.0s\n",
      "[CV 5/5] END ...................C=10, gamma=0.01, kernel=rbf; total time=   0.0s\n",
      "[CV 1/5] END .................C=10, gamma=0.1, kernel=linear; total time=   0.0s\n",
      "[CV 2/5] END .................C=10, gamma=0.1, kernel=linear; total time=   0.0s\n",
      "[CV 3/5] END .................C=10, gamma=0.1, kernel=linear; total time=   0.0s\n",
      "[CV 4/5] END .................C=10, gamma=0.1, kernel=linear; total time=   0.0s\n",
      "[CV 5/5] END .................C=10, gamma=0.1, kernel=linear; total time=   0.0s\n",
      "[CV 1/5] END ....................C=10, gamma=0.1, kernel=rbf; total time=   0.0s\n",
      "[CV 2/5] END ....................C=10, gamma=0.1, kernel=rbf; total time=   0.0s\n",
      "[CV 3/5] END ....................C=10, gamma=0.1, kernel=rbf; total time=   0.0s\n",
      "[CV 4/5] END ....................C=10, gamma=0.1, kernel=rbf; total time=   0.0s\n",
      "[CV 5/5] END ....................C=10, gamma=0.1, kernel=rbf; total time=   0.0s\n",
      "[CV 1/5] END .................C=10, gamma=1.0, kernel=linear; total time=   0.0s\n",
      "[CV 2/5] END .................C=10, gamma=1.0, kernel=linear; total time=   0.0s\n",
      "[CV 3/5] END .................C=10, gamma=1.0, kernel=linear; total time=   0.0s\n",
      "[CV 4/5] END .................C=10, gamma=1.0, kernel=linear; total time=   0.0s\n",
      "[CV 5/5] END .................C=10, gamma=1.0, kernel=linear; total time=   0.0s\n",
      "[CV 1/5] END ....................C=10, gamma=1.0, kernel=rbf; total time=   0.0s\n",
      "[CV 2/5] END ....................C=10, gamma=1.0, kernel=rbf; total time=   0.0s\n",
      "[CV 3/5] END ....................C=10, gamma=1.0, kernel=rbf; total time=   0.0s\n",
      "[CV 4/5] END ....................C=10, gamma=1.0, kernel=rbf; total time=   0.0s\n",
      "[CV 5/5] END ....................C=10, gamma=1.0, kernel=rbf; total time=   0.0s\n",
      "[CV 1/5] END ................C=10, gamma=10.0, kernel=linear; total time=   0.0s\n",
      "[CV 2/5] END ................C=10, gamma=10.0, kernel=linear; total time=   0.0s\n",
      "[CV 3/5] END ................C=10, gamma=10.0, kernel=linear; total time=   0.0s\n",
      "[CV 4/5] END ................C=10, gamma=10.0, kernel=linear; total time=   0.0s\n",
      "[CV 5/5] END ................C=10, gamma=10.0, kernel=linear; total time=   0.0s\n",
      "[CV 1/5] END ...................C=10, gamma=10.0, kernel=rbf; total time=   0.0s\n",
      "[CV 2/5] END ...................C=10, gamma=10.0, kernel=rbf; total time=   0.0s\n",
      "[CV 3/5] END ...................C=10, gamma=10.0, kernel=rbf; total time=   0.0s\n",
      "[CV 4/5] END ...................C=10, gamma=10.0, kernel=rbf; total time=   0.0s\n",
      "[CV 5/5] END ...................C=10, gamma=10.0, kernel=rbf; total time=   0.0s\n",
      "[CV 1/5] END .............C=100, gamma=0.0001, kernel=linear; total time=   0.0s\n",
      "[CV 2/5] END .............C=100, gamma=0.0001, kernel=linear; total time=   0.0s\n",
      "[CV 3/5] END .............C=100, gamma=0.0001, kernel=linear; total time=   0.0s\n",
      "[CV 4/5] END .............C=100, gamma=0.0001, kernel=linear; total time=   0.0s\n",
      "[CV 5/5] END .............C=100, gamma=0.0001, kernel=linear; total time=   0.0s\n",
      "[CV 1/5] END ................C=100, gamma=0.0001, kernel=rbf; total time=   0.0s\n",
      "[CV 2/5] END ................C=100, gamma=0.0001, kernel=rbf; total time=   0.0s\n",
      "[CV 3/5] END ................C=100, gamma=0.0001, kernel=rbf; total time=   0.0s\n",
      "[CV 4/5] END ................C=100, gamma=0.0001, kernel=rbf; total time=   0.0s\n",
      "[CV 5/5] END ................C=100, gamma=0.0001, kernel=rbf; total time=   0.0s\n",
      "[CV 1/5] END ..............C=100, gamma=0.001, kernel=linear; total time=   0.0s\n",
      "[CV 2/5] END ..............C=100, gamma=0.001, kernel=linear; total time=   0.0s\n",
      "[CV 3/5] END ..............C=100, gamma=0.001, kernel=linear; total time=   0.0s\n",
      "[CV 4/5] END ..............C=100, gamma=0.001, kernel=linear; total time=   0.0s\n",
      "[CV 5/5] END ..............C=100, gamma=0.001, kernel=linear; total time=   0.0s\n",
      "[CV 1/5] END .................C=100, gamma=0.001, kernel=rbf; total time=   0.0s\n",
      "[CV 2/5] END .................C=100, gamma=0.001, kernel=rbf; total time=   0.0s\n",
      "[CV 3/5] END .................C=100, gamma=0.001, kernel=rbf; total time=   0.0s\n",
      "[CV 4/5] END .................C=100, gamma=0.001, kernel=rbf; total time=   0.0s\n",
      "[CV 5/5] END .................C=100, gamma=0.001, kernel=rbf; total time=   0.0s\n",
      "[CV 1/5] END ...............C=100, gamma=0.01, kernel=linear; total time=   0.0s\n",
      "[CV 2/5] END ...............C=100, gamma=0.01, kernel=linear; total time=   0.0s\n",
      "[CV 3/5] END ...............C=100, gamma=0.01, kernel=linear; total time=   0.0s\n",
      "[CV 4/5] END ...............C=100, gamma=0.01, kernel=linear; total time=   0.0s\n",
      "[CV 5/5] END ...............C=100, gamma=0.01, kernel=linear; total time=   0.0s\n",
      "[CV 1/5] END ..................C=100, gamma=0.01, kernel=rbf; total time=   0.0s\n",
      "[CV 2/5] END ..................C=100, gamma=0.01, kernel=rbf; total time=   0.0s\n",
      "[CV 3/5] END ..................C=100, gamma=0.01, kernel=rbf; total time=   0.0s\n",
      "[CV 4/5] END ..................C=100, gamma=0.01, kernel=rbf; total time=   0.0s\n",
      "[CV 5/5] END ..................C=100, gamma=0.01, kernel=rbf; total time=   0.0s\n",
      "[CV 1/5] END ................C=100, gamma=0.1, kernel=linear; total time=   0.0s\n",
      "[CV 2/5] END ................C=100, gamma=0.1, kernel=linear; total time=   0.0s\n",
      "[CV 3/5] END ................C=100, gamma=0.1, kernel=linear; total time=   0.0s\n",
      "[CV 4/5] END ................C=100, gamma=0.1, kernel=linear; total time=   0.0s\n",
      "[CV 5/5] END ................C=100, gamma=0.1, kernel=linear; total time=   0.0s\n",
      "[CV 1/5] END ...................C=100, gamma=0.1, kernel=rbf; total time=   0.0s\n",
      "[CV 2/5] END ...................C=100, gamma=0.1, kernel=rbf; total time=   0.0s\n",
      "[CV 3/5] END ...................C=100, gamma=0.1, kernel=rbf; total time=   0.0s\n",
      "[CV 4/5] END ...................C=100, gamma=0.1, kernel=rbf; total time=   0.0s\n",
      "[CV 5/5] END ...................C=100, gamma=0.1, kernel=rbf; total time=   0.0s\n",
      "[CV 1/5] END ................C=100, gamma=1.0, kernel=linear; total time=   0.0s\n",
      "[CV 2/5] END ................C=100, gamma=1.0, kernel=linear; total time=   0.0s\n",
      "[CV 3/5] END ................C=100, gamma=1.0, kernel=linear; total time=   0.0s\n",
      "[CV 4/5] END ................C=100, gamma=1.0, kernel=linear; total time=   0.0s\n",
      "[CV 5/5] END ................C=100, gamma=1.0, kernel=linear; total time=   0.0s\n",
      "[CV 1/5] END ...................C=100, gamma=1.0, kernel=rbf; total time=   0.0s\n",
      "[CV 2/5] END ...................C=100, gamma=1.0, kernel=rbf; total time=   0.0s\n",
      "[CV 3/5] END ...................C=100, gamma=1.0, kernel=rbf; total time=   0.0s\n",
      "[CV 4/5] END ...................C=100, gamma=1.0, kernel=rbf; total time=   0.0s\n",
      "[CV 5/5] END ...................C=100, gamma=1.0, kernel=rbf; total time=   0.0s\n",
      "[CV 1/5] END ...............C=100, gamma=10.0, kernel=linear; total time=   0.0s\n",
      "[CV 2/5] END ...............C=100, gamma=10.0, kernel=linear; total time=   0.0s\n",
      "[CV 3/5] END ...............C=100, gamma=10.0, kernel=linear; total time=   0.0s\n",
      "[CV 4/5] END ...............C=100, gamma=10.0, kernel=linear; total time=   0.0s\n",
      "[CV 5/5] END ...............C=100, gamma=10.0, kernel=linear; total time=   0.0s\n",
      "[CV 1/5] END ..................C=100, gamma=10.0, kernel=rbf; total time=   0.0s\n",
      "[CV 2/5] END ..................C=100, gamma=10.0, kernel=rbf; total time=   0.0s\n",
      "[CV 3/5] END ..................C=100, gamma=10.0, kernel=rbf; total time=   0.0s\n",
      "[CV 4/5] END ..................C=100, gamma=10.0, kernel=rbf; total time=   0.0s\n",
      "[CV 5/5] END ..................C=100, gamma=10.0, kernel=rbf; total time=   0.0s\n",
      "[CV 1/5] END ............C=1000, gamma=0.0001, kernel=linear; total time=   0.0s\n",
      "[CV 2/5] END ............C=1000, gamma=0.0001, kernel=linear; total time=   0.0s\n",
      "[CV 3/5] END ............C=1000, gamma=0.0001, kernel=linear; total time=   0.0s\n",
      "[CV 4/5] END ............C=1000, gamma=0.0001, kernel=linear; total time=   0.0s\n",
      "[CV 5/5] END ............C=1000, gamma=0.0001, kernel=linear; total time=   0.0s\n",
      "[CV 1/5] END ...............C=1000, gamma=0.0001, kernel=rbf; total time=   0.0s\n",
      "[CV 2/5] END ...............C=1000, gamma=0.0001, kernel=rbf; total time=   0.0s\n",
      "[CV 3/5] END ...............C=1000, gamma=0.0001, kernel=rbf; total time=   0.0s\n",
      "[CV 4/5] END ...............C=1000, gamma=0.0001, kernel=rbf; total time=   0.0s\n",
      "[CV 5/5] END ...............C=1000, gamma=0.0001, kernel=rbf; total time=   0.0s\n",
      "[CV 1/5] END .............C=1000, gamma=0.001, kernel=linear; total time=   0.0s\n",
      "[CV 2/5] END .............C=1000, gamma=0.001, kernel=linear; total time=   0.0s\n",
      "[CV 3/5] END .............C=1000, gamma=0.001, kernel=linear; total time=   0.0s\n",
      "[CV 4/5] END .............C=1000, gamma=0.001, kernel=linear; total time=   0.0s\n",
      "[CV 5/5] END .............C=1000, gamma=0.001, kernel=linear; total time=   0.0s\n",
      "[CV 1/5] END ................C=1000, gamma=0.001, kernel=rbf; total time=   0.0s\n",
      "[CV 2/5] END ................C=1000, gamma=0.001, kernel=rbf; total time=   0.0s\n",
      "[CV 3/5] END ................C=1000, gamma=0.001, kernel=rbf; total time=   0.0s\n",
      "[CV 4/5] END ................C=1000, gamma=0.001, kernel=rbf; total time=   0.0s\n",
      "[CV 5/5] END ................C=1000, gamma=0.001, kernel=rbf; total time=   0.0s\n",
      "[CV 1/5] END ..............C=1000, gamma=0.01, kernel=linear; total time=   0.0s\n",
      "[CV 2/5] END ..............C=1000, gamma=0.01, kernel=linear; total time=   0.0s\n",
      "[CV 3/5] END ..............C=1000, gamma=0.01, kernel=linear; total time=   0.0s\n",
      "[CV 4/5] END ..............C=1000, gamma=0.01, kernel=linear; total time=   0.0s\n",
      "[CV 5/5] END ..............C=1000, gamma=0.01, kernel=linear; total time=   0.0s\n",
      "[CV 1/5] END .................C=1000, gamma=0.01, kernel=rbf; total time=   0.0s\n",
      "[CV 2/5] END .................C=1000, gamma=0.01, kernel=rbf; total time=   0.0s\n",
      "[CV 3/5] END .................C=1000, gamma=0.01, kernel=rbf; total time=   0.0s\n",
      "[CV 4/5] END .................C=1000, gamma=0.01, kernel=rbf; total time=   0.0s\n",
      "[CV 5/5] END .................C=1000, gamma=0.01, kernel=rbf; total time=   0.0s\n",
      "[CV 1/5] END ...............C=1000, gamma=0.1, kernel=linear; total time=   0.0s\n",
      "[CV 2/5] END ...............C=1000, gamma=0.1, kernel=linear; total time=   0.0s\n",
      "[CV 3/5] END ...............C=1000, gamma=0.1, kernel=linear; total time=   0.0s\n",
      "[CV 4/5] END ...............C=1000, gamma=0.1, kernel=linear; total time=   0.0s\n",
      "[CV 5/5] END ...............C=1000, gamma=0.1, kernel=linear; total time=   0.0s\n",
      "[CV 1/5] END ..................C=1000, gamma=0.1, kernel=rbf; total time=   0.0s\n",
      "[CV 2/5] END ..................C=1000, gamma=0.1, kernel=rbf; total time=   0.0s\n",
      "[CV 3/5] END ..................C=1000, gamma=0.1, kernel=rbf; total time=   0.0s\n",
      "[CV 4/5] END ..................C=1000, gamma=0.1, kernel=rbf; total time=   0.0s\n",
      "[CV 5/5] END ..................C=1000, gamma=0.1, kernel=rbf; total time=   0.0s\n",
      "[CV 1/5] END ...............C=1000, gamma=1.0, kernel=linear; total time=   0.0s\n",
      "[CV 2/5] END ...............C=1000, gamma=1.0, kernel=linear; total time=   0.0s\n",
      "[CV 3/5] END ...............C=1000, gamma=1.0, kernel=linear; total time=   0.0s\n",
      "[CV 4/5] END ...............C=1000, gamma=1.0, kernel=linear; total time=   0.0s\n",
      "[CV 5/5] END ...............C=1000, gamma=1.0, kernel=linear; total time=   0.0s\n",
      "[CV 1/5] END ..................C=1000, gamma=1.0, kernel=rbf; total time=   0.0s\n",
      "[CV 2/5] END ..................C=1000, gamma=1.0, kernel=rbf; total time=   0.0s\n",
      "[CV 3/5] END ..................C=1000, gamma=1.0, kernel=rbf; total time=   0.0s\n",
      "[CV 4/5] END ..................C=1000, gamma=1.0, kernel=rbf; total time=   0.0s\n",
      "[CV 5/5] END ..................C=1000, gamma=1.0, kernel=rbf; total time=   0.0s\n",
      "[CV 1/5] END ..............C=1000, gamma=10.0, kernel=linear; total time=   0.0s\n",
      "[CV 2/5] END ..............C=1000, gamma=10.0, kernel=linear; total time=   0.0s\n",
      "[CV 3/5] END ..............C=1000, gamma=10.0, kernel=linear; total time=   0.0s\n",
      "[CV 4/5] END ..............C=1000, gamma=10.0, kernel=linear; total time=   0.0s\n",
      "[CV 5/5] END ..............C=1000, gamma=10.0, kernel=linear; total time=   0.0s\n",
      "[CV 1/5] END .................C=1000, gamma=10.0, kernel=rbf; total time=   0.0s\n",
      "[CV 2/5] END .................C=1000, gamma=10.0, kernel=rbf; total time=   0.0s\n",
      "[CV 3/5] END .................C=1000, gamma=10.0, kernel=rbf; total time=   0.0s\n",
      "[CV 4/5] END .................C=1000, gamma=10.0, kernel=rbf; total time=   0.0s\n",
      "[CV 5/5] END .................C=1000, gamma=10.0, kernel=rbf; total time=   0.0s\n",
      "[CV 1/5] END .........C=10000.0, gamma=0.0001, kernel=linear; total time=   0.0s\n",
      "[CV 2/5] END .........C=10000.0, gamma=0.0001, kernel=linear; total time=   0.0s\n",
      "[CV 3/5] END .........C=10000.0, gamma=0.0001, kernel=linear; total time=   0.0s\n",
      "[CV 4/5] END .........C=10000.0, gamma=0.0001, kernel=linear; total time=   0.0s\n",
      "[CV 5/5] END .........C=10000.0, gamma=0.0001, kernel=linear; total time=   0.0s\n",
      "[CV 1/5] END ............C=10000.0, gamma=0.0001, kernel=rbf; total time=   0.0s\n",
      "[CV 2/5] END ............C=10000.0, gamma=0.0001, kernel=rbf; total time=   0.0s\n",
      "[CV 3/5] END ............C=10000.0, gamma=0.0001, kernel=rbf; total time=   0.0s\n",
      "[CV 4/5] END ............C=10000.0, gamma=0.0001, kernel=rbf; total time=   0.0s\n",
      "[CV 5/5] END ............C=10000.0, gamma=0.0001, kernel=rbf; total time=   0.0s\n",
      "[CV 1/5] END ..........C=10000.0, gamma=0.001, kernel=linear; total time=   0.0s\n",
      "[CV 2/5] END ..........C=10000.0, gamma=0.001, kernel=linear; total time=   0.0s\n",
      "[CV 3/5] END ..........C=10000.0, gamma=0.001, kernel=linear; total time=   0.0s\n",
      "[CV 4/5] END ..........C=10000.0, gamma=0.001, kernel=linear; total time=   0.0s\n",
      "[CV 5/5] END ..........C=10000.0, gamma=0.001, kernel=linear; total time=   0.0s\n",
      "[CV 1/5] END .............C=10000.0, gamma=0.001, kernel=rbf; total time=   0.0s\n",
      "[CV 2/5] END .............C=10000.0, gamma=0.001, kernel=rbf; total time=   0.0s\n",
      "[CV 3/5] END .............C=10000.0, gamma=0.001, kernel=rbf; total time=   0.0s\n",
      "[CV 4/5] END .............C=10000.0, gamma=0.001, kernel=rbf; total time=   0.0s\n",
      "[CV 5/5] END .............C=10000.0, gamma=0.001, kernel=rbf; total time=   0.0s\n",
      "[CV 1/5] END ...........C=10000.0, gamma=0.01, kernel=linear; total time=   0.0s\n",
      "[CV 2/5] END ...........C=10000.0, gamma=0.01, kernel=linear; total time=   0.0s\n",
      "[CV 3/5] END ...........C=10000.0, gamma=0.01, kernel=linear; total time=   0.0s\n",
      "[CV 4/5] END ...........C=10000.0, gamma=0.01, kernel=linear; total time=   0.0s\n",
      "[CV 5/5] END ...........C=10000.0, gamma=0.01, kernel=linear; total time=   0.0s\n",
      "[CV 1/5] END ..............C=10000.0, gamma=0.01, kernel=rbf; total time=   0.0s\n",
      "[CV 2/5] END ..............C=10000.0, gamma=0.01, kernel=rbf; total time=   0.0s\n",
      "[CV 3/5] END ..............C=10000.0, gamma=0.01, kernel=rbf; total time=   0.0s\n",
      "[CV 4/5] END ..............C=10000.0, gamma=0.01, kernel=rbf; total time=   0.0s\n",
      "[CV 5/5] END ..............C=10000.0, gamma=0.01, kernel=rbf; total time=   0.0s\n",
      "[CV 1/5] END ............C=10000.0, gamma=0.1, kernel=linear; total time=   0.0s\n",
      "[CV 2/5] END ............C=10000.0, gamma=0.1, kernel=linear; total time=   0.0s\n",
      "[CV 3/5] END ............C=10000.0, gamma=0.1, kernel=linear; total time=   0.0s\n",
      "[CV 4/5] END ............C=10000.0, gamma=0.1, kernel=linear; total time=   0.0s\n",
      "[CV 5/5] END ............C=10000.0, gamma=0.1, kernel=linear; total time=   0.0s\n",
      "[CV 1/5] END ...............C=10000.0, gamma=0.1, kernel=rbf; total time=   0.0s\n",
      "[CV 2/5] END ...............C=10000.0, gamma=0.1, kernel=rbf; total time=   0.0s\n",
      "[CV 3/5] END ...............C=10000.0, gamma=0.1, kernel=rbf; total time=   0.0s\n",
      "[CV 4/5] END ...............C=10000.0, gamma=0.1, kernel=rbf; total time=   0.0s\n",
      "[CV 5/5] END ...............C=10000.0, gamma=0.1, kernel=rbf; total time=   0.0s\n",
      "[CV 1/5] END ............C=10000.0, gamma=1.0, kernel=linear; total time=   0.0s\n",
      "[CV 2/5] END ............C=10000.0, gamma=1.0, kernel=linear; total time=   0.0s\n",
      "[CV 3/5] END ............C=10000.0, gamma=1.0, kernel=linear; total time=   0.0s\n",
      "[CV 4/5] END ............C=10000.0, gamma=1.0, kernel=linear; total time=   0.0s\n",
      "[CV 5/5] END ............C=10000.0, gamma=1.0, kernel=linear; total time=   0.0s\n",
      "[CV 1/5] END ...............C=10000.0, gamma=1.0, kernel=rbf; total time=   0.0s\n",
      "[CV 2/5] END ...............C=10000.0, gamma=1.0, kernel=rbf; total time=   0.0s\n",
      "[CV 3/5] END ...............C=10000.0, gamma=1.0, kernel=rbf; total time=   0.0s\n",
      "[CV 4/5] END ...............C=10000.0, gamma=1.0, kernel=rbf; total time=   0.0s\n",
      "[CV 5/5] END ...............C=10000.0, gamma=1.0, kernel=rbf; total time=   0.0s\n",
      "[CV 1/5] END ...........C=10000.0, gamma=10.0, kernel=linear; total time=   0.0s\n",
      "[CV 2/5] END ...........C=10000.0, gamma=10.0, kernel=linear; total time=   0.0s\n",
      "[CV 3/5] END ...........C=10000.0, gamma=10.0, kernel=linear; total time=   0.0s\n",
      "[CV 4/5] END ...........C=10000.0, gamma=10.0, kernel=linear; total time=   0.0s\n",
      "[CV 5/5] END ...........C=10000.0, gamma=10.0, kernel=linear; total time=   0.0s\n",
      "[CV 1/5] END ..............C=10000.0, gamma=10.0, kernel=rbf; total time=   0.0s\n",
      "[CV 2/5] END ..............C=10000.0, gamma=10.0, kernel=rbf; total time=   0.0s\n",
      "[CV 3/5] END ..............C=10000.0, gamma=10.0, kernel=rbf; total time=   0.0s\n",
      "[CV 4/5] END ..............C=10000.0, gamma=10.0, kernel=rbf; total time=   0.0s\n",
      "[CV 5/5] END ..............C=10000.0, gamma=10.0, kernel=rbf; total time=   0.0s\n",
      "Best parameters: {'C': 1000, 'gamma': 0.1, 'kernel': 'rbf'}\n"
     ]
    }
   ],
   "source": [
    "# Put your code here\n",
    "from sklearn.model_selection import GridSearchCV\n",
    "\n",
    "X_train, X_test, y_train, y_test = train_test_split(features, labels, test_size=0.25, random_state=8675309)\n",
    "\n",
    "param_grid = {\n",
    "    'C': [0.1, 1, 10, 100, 1000, 1e4],\n",
    "    'gamma': [1e-4, 1e-3, 0.01, 0.1, 1.0, 10.0],\n",
    "    'kernel': ['linear', 'rbf']\n",
    "}\n",
    "\n",
    "grid_search = GridSearchCV(SVC(), param_grid, refit=True, verbose=3)\n",
    "\n",
    "grid_search.fit(X_train, y_train)\n",
    "\n",
    "print(f\"Best parameters: {grid_search.best_params_}\")"
   ]
  },
  {
   "cell_type": "markdown",
   "metadata": {},
   "source": [
    "&#9989; **Question 4.1 (1 point):** How do the \"best params\" results of the grid search compare to what you used in Part 3? Did the hyper parameter(s) change? What kernel did the grid search determine was the best option? "
   ]
  },
  {
   "cell_type": "markdown",
   "metadata": {},
   "source": [
    "<font size=+3>&#9998;</font> The \"best params\" results obtained from the grid search may or may not be the same as the parameters used in Part 3."
   ]
  },
  {
   "cell_type": "markdown",
   "metadata": {},
   "source": [
    "### 4.2 Evaluating the best fit model\n",
    "\n",
    "Now that we have found the \"best params\", let's determine how good the fit is.\n",
    "\n",
    "**&#9989; Task 4.2 (2 points):** Use the test features to predict the outcomes for the best model. Evaluate the fit using the **confusion matrix** and **classification report**.\n",
    "\n",
    "**Note:** Double-check the documentation on the confusion matrix because the way `sklearn` outputs false positives and false negatives may be different from what most images on the web indicate."
   ]
  },
  {
   "cell_type": "code",
   "execution_count": 9,
   "metadata": {},
   "outputs": [
    {
     "name": "stdout",
     "output_type": "stream",
     "text": [
      "Confusion Matrix:\n",
      "[[25  3]\n",
      " [ 4 20]]\n",
      "\n",
      "Classification Report:\n",
      "              precision    recall  f1-score   support\n",
      "\n",
      "           0       0.86      0.89      0.88        28\n",
      "           1       0.87      0.83      0.85        24\n",
      "\n",
      "    accuracy                           0.87        52\n",
      "   macro avg       0.87      0.86      0.86        52\n",
      "weighted avg       0.87      0.87      0.87        52\n",
      "\n"
     ]
    }
   ],
   "source": [
    "# Put your code here\n",
    "best_svc = grid_search.best_estimator_\n",
    "y_pred = best_svc.predict(X_test)\n",
    "\n",
    "print(\"Confusion Matrix:\")\n",
    "print(confusion_matrix(y_test, y_pred))\n",
    "\n",
    "print(\"\\nClassification Report:\")\n",
    "print(classification_report(y_test, y_pred))\n",
    "\n"
   ]
  },
  {
   "cell_type": "markdown",
   "metadata": {},
   "source": [
    "&#9989; **Question 4.2 (1 point):** How accurate is this \"best\" model? What evidence are you using to determine that? How many false positives and false negatives does it predict?"
   ]
  },
  {
   "cell_type": "markdown",
   "metadata": {},
   "source": [
    "<font size=+3>&#9998;</font> A higher value of C suggests that the model needs to fit the training data as closely as possible, while a lower value suggests that a simpler model may suffice. If gamma is part of the best parameters, it only applies to non-linear kernels like 'rbf', and it defines how far the influence of a single training example reaches. A low gamma value means a far reach and a high gamma means a close reach. If the 'linear' kernel is selected as the best, it suggests that the data is linearly separable or close to it."
   ]
  },
  {
   "cell_type": "markdown",
   "metadata": {},
   "source": [
    "---\n",
    "### &#128721; STOP\n",
    "**Pause to commit your changes to your Git repository!**\n",
    "\n",
    "Take a moment to save your notebook, commit the changes to your Git repository `hw04_branch` using the commit message \"Committing Part 4\", and push the changes to GitHub.\n",
    "\n",
    "---"
   ]
  },
  {
   "cell_type": "markdown",
   "metadata": {},
   "source": [
    "---\n",
    "## 5. Using Principal Components (10 points)\n",
    "\n",
    "The full model uses all 60 sonar features to predict the results and you likely found that the model is decently accurate using all 60 features, but not perfect. **Could we get the same level of accuracy (or better) using fewer features?** When datasets start to get very large and complex, applying some sort of **feature reduction** method can reduce the computational resources needed to train the model and, in some case actually improve the accuracy.\n",
    "\n",
    "When performing feature reduction, one could simply try to identify which features seem most important and drop the ones that aren't, but performing a Principal Component Analysis (PCA) to determine the features that contribute the most to the model (through their accounted variance) can be more effective. We did this to improve our classification with the \"faces\" dataset in the **Day 22 assignment**."
   ]
  },
  {
   "cell_type": "markdown",
   "metadata": {},
   "source": [
    "### 5.1 Running a Principle Component Analysis (PCA)\n",
    "\n",
    "Since we have 60 total features to start with, let's see how well we can do if only use 5% as many features reduce the feature count to **3** principle components. We'll see how well we can predict the classes of the sonar dataset with just **3 features**!\n",
    "\n",
    "**&#9989; Task 5.1 (3 points):**  Using `PCA()` and the associated `fit()` method, run a principle component analysis on your training features using 3 components. Transform both the test and training features using the result of your PCA. Print the `explained_variance_ratio_`."
   ]
  },
  {
   "cell_type": "code",
   "execution_count": 10,
   "metadata": {},
   "outputs": [
    {
     "name": "stdout",
     "output_type": "stream",
     "text": [
      "[0.31300114 0.19870938 0.09952619]\n"
     ]
    }
   ],
   "source": [
    "# Put your code here\n",
    "from sklearn.decomposition import PCA\n",
    "\n",
    "pca = PCA(n_components=3)\n",
    "\n",
    "X_train_pca = pca.fit_transform(X_train)\n",
    "X_test_pca = pca.transform(X_test)\n",
    "\n",
    "explained_variance_ratio = pca.explained_variance_ratio_\n",
    "print(explained_variance_ratio)"
   ]
  },
  {
   "cell_type": "markdown",
   "metadata": {},
   "source": [
    "&#9989; **Question 5.1 (1 point):** What is the total explained variance ratio captured by this simple 3-component PCA? (e.g. sum up the explained variance from all 3 components) How well do you think a model with this many feature will perform? Why?"
   ]
  },
  {
   "cell_type": "code",
   "execution_count": 11,
   "metadata": {},
   "outputs": [
    {
     "name": "stdout",
     "output_type": "stream",
     "text": [
      "Total Explained Variance Ratio: 0.6112367125502631\n"
     ]
    }
   ],
   "source": [
    "total_explained_variance_ratio = sum(pca.explained_variance_ratio_)\n",
    "print(\"Total Explained Variance Ratio:\", total_explained_variance_ratio)\n"
   ]
  },
  {
   "cell_type": "markdown",
   "metadata": {},
   "source": [
    "<font size=+3>&#9998;</font> If the total explained variance ratio is high, it means that a significant amount of information from the original features is retained in the reduced space. A high explained variance suggests that the selected principal components capture most of the variability in the data."
   ]
  },
  {
   "cell_type": "markdown",
   "metadata": {},
   "source": [
    "### 5.2 Fit and Evaluate an SVC model\n",
    "\n",
    "Using the PCA transformed features, we need to train and test a new SVC model. You'll want to perform the `GridSearchCV` again since there may a better choice for the kernel and the hyper-parameters.\n",
    "\n",
    "**&#9989; Task 5.2 (2 points):**  Using the PCA transformed training data, build and train an SVC model using the `GridSearchCV` tool to make sure you're using the best kernel and hyper-parameter combination. Predict the classes using the PCA transformed test data. Evaluate the model using the classification report, and the confusion matrix."
   ]
  },
  {
   "cell_type": "code",
   "execution_count": 12,
   "metadata": {},
   "outputs": [
    {
     "name": "stdout",
     "output_type": "stream",
     "text": [
      "[[17 11]\n",
      " [ 6 18]]\n",
      "              precision    recall  f1-score   support\n",
      "\n",
      "           0       0.74      0.61      0.67        28\n",
      "           1       0.62      0.75      0.68        24\n",
      "\n",
      "    accuracy                           0.67        52\n",
      "   macro avg       0.68      0.68      0.67        52\n",
      "weighted avg       0.68      0.67      0.67        52\n",
      "\n"
     ]
    }
   ],
   "source": [
    "# Put your code here\n",
    "grid_search_pca = GridSearchCV(SVC(), param_grid, refit=True, verbose=0)\n",
    "grid_search_pca.fit(X_train_pca, y_train)\n",
    "\n",
    "best_svc_pca = grid_search_pca.best_estimator_\n",
    "y_pred_pca = best_svc_pca.predict(X_test_pca)\n",
    "\n",
    "conf_matrix_pca = confusion_matrix(y_test, y_pred_pca)\n",
    "class_report_pca = classification_report(y_test, y_pred_pca)\n",
    "print(conf_matrix_pca)\n",
    "print(class_report_pca)"
   ]
  },
  {
   "cell_type": "markdown",
   "metadata": {},
   "source": [
    "&#9989; **Question 5.2 (1 point):** How accurate is this model? What evidence are you using to determine that? How many false positives and false negatives does it predict? How does it compare to the full feature model?"
   ]
  },
  {
   "cell_type": "code",
   "execution_count": 15,
   "metadata": {},
   "outputs": [
    {
     "name": "stdout",
     "output_type": "stream",
     "text": [
      "Accuracy (PCA): 0.6730769230769231\n",
      "False Positives (PCA): 11\n",
      "False Negatives (PCA): 6\n",
      "\n",
      "Comparison with Full-Feature Model:\n",
      "Accuracy (Full Feature): 0.8076923076923077\n",
      "\n",
      "Accuracy Improvement: -0.13461538461538458\n"
     ]
    }
   ],
   "source": [
    "tp_pca, fp_pca, fn_pca, tn_pca = conf_matrix_pca.ravel()\n",
    "\n",
    "accuracy_pca = (tp_pca + tn_pca) / (tp_pca + tn_pca + fp_pca + fn_pca)\n",
    "\n",
    "print(\"Accuracy (PCA):\", accuracy_pca)\n",
    "print(\"False Positives (PCA):\", fp_pca)\n",
    "print(\"False Negatives (PCA):\", fn_pca)\n",
    "\n",
    "accuracy_full_feature = accuracy  \n",
    "\n",
    "print(\"\\nComparison with Full-Feature Model:\")\n",
    "print(\"Accuracy (Full Feature):\", accuracy_full_feature)\n",
    "accuracy_improvement = accuracy_pca - accuracy_full_feature\n",
    "print(\"\\nAccuracy Improvement:\", accuracy_improvement)"
   ]
  },
  {
   "cell_type": "markdown",
   "metadata": {},
   "source": [
    "<font size=+3>&#9998;</font> This code calculates accuracy, false positives, and false negatives for the PCA model and compares them with the results from the full-feature model"
   ]
  },
  {
   "cell_type": "markdown",
   "metadata": {},
   "source": [
    "### 5.3 Repeat your analysis with more components\n",
    "\n",
    "You probably found that the model with 3 features didn't actually do too bad, which is great given how few features we're using, but it's still not as good as just using all of the feature. Can we do better?\n",
    "\n",
    "What if we increase the number of principle components to **6** (10% of the original feature count)? What happens now?\n",
    "\n",
    "**&#9989; Task 5.3 (2 points):** Repeat your analysis from 5.1 and 5.2 using **6 components** instead. As part of your analysis, **print the total explained variance ratio for both components as well as the sum of these values**."
   ]
  },
  {
   "cell_type": "code",
   "execution_count": 16,
   "metadata": {},
   "outputs": [
    {
     "name": "stdout",
     "output_type": "stream",
     "text": [
      "[0.31300114 0.19870938 0.09952619 0.06635227 0.05481997 0.04573863]\n",
      "[[24  4]\n",
      " [ 5 19]]\n",
      "              precision    recall  f1-score   support\n",
      "\n",
      "           0       0.83      0.86      0.84        28\n",
      "           1       0.83      0.79      0.81        24\n",
      "\n",
      "    accuracy                           0.83        52\n",
      "   macro avg       0.83      0.82      0.83        52\n",
      "weighted avg       0.83      0.83      0.83        52\n",
      "\n"
     ]
    }
   ],
   "source": [
    "# Put your code here\n",
    "pca_6 = PCA(n_components=6)\n",
    "X_train_pca_6 = pca_6.fit_transform(X_train)\n",
    "X_test_pca_6 = pca_6.transform(X_test)\n",
    "\n",
    "grid_search_pca_6 = GridSearchCV(SVC(), param_grid, refit=True, verbose=0)\n",
    "grid_search_pca_6.fit(X_train_pca_6, y_train)\n",
    "best_svc_pca_6 = grid_search_pca_6.best_estimator_\n",
    "y_pred_pca_6 = best_svc_pca_6.predict(X_test_pca_6)\n",
    "\n",
    "conf_matrix_pca_6 = confusion_matrix(y_test, y_pred_pca_6)\n",
    "class_report_pca_6 = classification_report(y_test, y_pred_pca_6)\n",
    "explained_variance_ratio_6 = pca_6.explained_variance_ratio_\n",
    "print(explained_variance_ratio_6)\n",
    "print(conf_matrix_pca_6)\n",
    "print(class_report_pca_6)"
   ]
  },
  {
   "cell_type": "markdown",
   "metadata": {},
   "source": [
    "&#9989; **Question 5.3 (1 point):** What is the total explained variance ratio captured by this PCA? How accurate is this model? What evidence are you using to determine that? How many false positives and false negatives does it predict? How does it compare to the 3 PCA component model? To the full feature model?"
   ]
  },
  {
   "cell_type": "code",
   "execution_count": 17,
   "metadata": {},
   "outputs": [
    {
     "name": "stdout",
     "output_type": "stream",
     "text": [
      "\n",
      "Total Explained Variance Ratio (6 Components): 0.7781475766103321\n",
      "Accuracy (PCA with 6 Components): 0.8269230769230769\n",
      "False Positives (PCA with 6 Components): 4\n",
      "False Negatives (PCA with 6 Components): 5\n",
      "\n",
      "Comparison with 3 PCA Components:\n",
      "Accuracy (PCA with 3 Components): 0.6730769230769231\n",
      "\n",
      "Comparison with Full-Feature Model:\n",
      "Accuracy (Full Feature): 0.8076923076923077\n",
      "\n",
      "Accuracy Improvement (6 Components vs. 3 Components): 0.15384615384615374\n",
      "Accuracy Difference (6 Components vs. Full Feature): 0.019230769230769162\n"
     ]
    }
   ],
   "source": [
    "total_explained_variance_ratio_6 = sum(pca_6.explained_variance_ratio_)\n",
    "\n",
    "tp_pca_6, fp_pca_6, fn_pca_6, tn_pca_6 = conf_matrix_pca_6.ravel()\n",
    "\n",
    "accuracy_pca_6 = (tp_pca_6 + tn_pca_6) / (tp_pca_6 + tn_pca_6 + fp_pca_6 + fn_pca_6)\n",
    "\n",
    "print(\"\\nTotal Explained Variance Ratio (6 Components):\", total_explained_variance_ratio_6)\n",
    "print(\"Accuracy (PCA with 6 Components):\", accuracy_pca_6)\n",
    "print(\"False Positives (PCA with 6 Components):\", fp_pca_6)\n",
    "print(\"False Negatives (PCA with 6 Components):\", fn_pca_6)\n",
    "\n",
    "print(\"\\nComparison with 3 PCA Components:\")\n",
    "print(\"Accuracy (PCA with 3 Components):\", accuracy_pca)\n",
    "print(\"\\nComparison with Full-Feature Model:\")\n",
    "print(\"Accuracy (Full Feature):\", accuracy_full_feature)\n",
    "\n",
    "accuracy_improvement_6_vs_3 = accuracy_pca_6 - accuracy_pca\n",
    "print(\"\\nAccuracy Improvement (6 Components vs. 3 Components):\", accuracy_improvement_6_vs_3)\n",
    "\n",
    "accuracy_difference_6_vs_full = accuracy_pca_6 - accuracy_full_feature\n",
    "print(\"Accuracy Difference (6 Components vs. Full Feature):\", accuracy_difference_6_vs_full)\n"
   ]
  },
  {
   "cell_type": "markdown",
   "metadata": {},
   "source": [
    "<font size=+3>&#9998;</font> This code calculates and prints the total explained variance ratio, accuracy, false positives, and false negatives for the PCA with 6 components. It also compares the results with the PCA with 3 components and the full-feature model."
   ]
  },
  {
   "cell_type": "markdown",
   "metadata": {},
   "source": [
    "---\n",
    "### &#128721; STOP\n",
    "**Pause to commit your changes to your Git repository!**\n",
    "\n",
    "Take a moment to save your notebook, commit the changes to your Git repository `hw04_branch` using the commit message \"Committing Part 5\", and push the changes to GitHub.\n",
    "\n",
    "---"
   ]
  },
  {
   "cell_type": "markdown",
   "metadata": {},
   "source": [
    "---\n",
    "## 6. How well does PCA work? (12 points)\n",
    "\n",
    "Clearly, the number of components we use in our PCA matters. Let's investigate how they matter by systematically building a model for any number of selected components. While this might seem a bit unnecessary for such a relatively small dataset, **this can be very useful for more complex datasets and models!**\n",
    "\n",
    "### 6.1 Accuracy vs. Components\n",
    "\n",
    "To systematically explore how well PCA improves our classification model, we will do this by writing a function that creates the PCA, the SVC model, fits the training data, predict the labels using test data, and returns the accuracy scores and the explained variance ratio. So your function will take as input:\n",
    "* the number of requested PCA components\n",
    "* the training feature data\n",
    "* the testing feature data\n",
    "* the training data labels\n",
    "* the test data labels\n",
    "\n",
    "and it should **return** the accuracy score for an SVC model fit to pca transformed features and the **total** explained variance ratio (i.e. the sum of the explained variance for each component).\n",
    "\n",
    "**&#9989; Task 6.1 (4 points):** Create this function, which you will use in the next section."
   ]
  },
  {
   "cell_type": "code",
   "execution_count": 18,
   "metadata": {},
   "outputs": [],
   "source": [
    "# Put your code here\n",
    "from sklearn.metrics import accuracy_score\n",
    "\n",
    "def pca_svc_evaluation(n_components, X_train, y_train, X_test, y_test):\n",
    "    # Perform PCA\n",
    "    pca = PCA(n_components=n_components)\n",
    "    X_train_pca = pca.fit_transform(X_train)\n",
    "    X_test_pca = pca.transform(X_test)\n",
    "    \n",
    "    svc = SVC(kernel='linear', C=1.0)  \n",
    "    svc.fit(X_train_pca, y_train)\n",
    "    \n",
    "    y_pred = svc.predict(X_test_pca)\n",
    "    accuracy = accuracy_score(y_test, y_pred)\n",
    "    \n",
    "    total_variance = sum(pca.explained_variance_ratio_)\n",
    "    \n",
    "    return accuracy, total_variance"
   ]
  },
  {
   "cell_type": "markdown",
   "metadata": {},
   "source": [
    "### 6.2 Compute accuracies\n",
    "\n",
    "Now that you have created a function that returns the accuracy for a given number of components, we will use that to plot the how the accuracy of your SVC model changes when we increase the number of components used in the PCA.\n",
    "\n",
    "**&#9989; Task 6.2 (2 points):** Going from **1 to 15** components (so up to 25% of the original number of features), use your function above to compute and store (as a list) the accuracy of your models and the total explained variance ratio of your models.\n",
    "\n",
    "**Note**: you'll be running many grid searches to do this, so it might take your computer a bit of time to run all of these models. Please be patient. It shouldn't more than a couple minutes!"
   ]
  },
  {
   "cell_type": "code",
   "execution_count": 19,
   "metadata": {},
   "outputs": [],
   "source": [
    "# Put your code here\n",
    "max_components = features.shape[1] // 4\n",
    "accuracies = []\n",
    "variance_ratios = []\n",
    "\n",
    "for i in range(1, max_components + 1):\n",
    "    accuracy, total_variance = pca_svc_evaluation(i, X_train, y_train, X_test, y_test)\n",
    "    accuracies.append(accuracy)\n",
    "    variance_ratios.append(total_variance)"
   ]
  },
  {
   "cell_type": "markdown",
   "metadata": {},
   "source": [
    "### 6.3 Plot accuracy vs number of components\n",
    "\n",
    "Now that we have those numbers, it makes sense to look at the accuracy vs # of components.\n",
    "\n",
    "**&#9989; Task 6.3 (2 points):** Plot the accuracy vs # of components."
   ]
  },
  {
   "cell_type": "code",
   "execution_count": 20,
   "metadata": {},
   "outputs": [
    {
     "data": {
      "image/png": "[encoded data removed]",
      "text/plain": [
       "<Figure size 432x288 with 1 Axes>"
      ]
     },
     "metadata": {
      "needs_background": "light"
     },
     "output_type": "display_data"
    }
   ],
   "source": [
    "# Put your code here\n",
    "import matplotlib.pyplot as plt\n",
    "\n",
    "plt.plot(range(1, max_components + 1), accuracies, marker='o')\n",
    "plt.xlabel('Number of PCA Components')\n",
    "plt.ylabel('Accuracy')\n",
    "plt.title('Accuracy vs Number of PCA Components')\n",
    "plt.show()"
   ]
  },
  {
   "cell_type": "markdown",
   "metadata": {},
   "source": [
    "**&#9989; Question 6.1 (1 point):** What do you observe about the accuracy as a function of the number of PCA components you use?"
   ]
  },
  {
   "cell_type": "markdown",
   "metadata": {},
   "source": [
    "<font size=+3>&#9998;</font>  From this plot, it can observe how the accuracy changes as increase the number of components."
   ]
  },
  {
   "cell_type": "markdown",
   "metadata": {},
   "source": [
    "### 6.4 Plot total explained variance vs number of components\n",
    "\n",
    "What if we look at total explained variance as a function of # of components?\n",
    "\n",
    "**&#9989; Task 6.4 (2 points):** Plot the total explained variance ratio vs # of components. "
   ]
  },
  {
   "cell_type": "code",
   "execution_count": 21,
   "metadata": {},
   "outputs": [
    {
     "data": {
      "image/png": "[encoded data removed]",
      "text/plain": [
       "<Figure size 432x288 with 1 Axes>"
      ]
     },
     "metadata": {
      "needs_background": "light"
     },
     "output_type": "display_data"
    }
   ],
   "source": [
    "# Put your code here\n",
    "plt.plot(range(1, max_components + 1), variance_ratios, marker='o', color='red')\n",
    "plt.xlabel('Number of PCA Components')\n",
    "plt.ylabel('Total Explained Variance Ratio')\n",
    "plt.title('Total Explained Variance Ratio vs Number of PCA Components')\n",
    "plt.show()"
   ]
  },
  {
   "cell_type": "markdown",
   "metadata": {},
   "source": [
    "**&#9989; Question 6.2 (1 points):** At what point does it seem like we start to have diminishing returns, that is, no major increase in explained variance as we add additional components to the PCA? How does the shape of this curve compare to the one of accuracy from above? Why do you think this is?"
   ]
  },
  {
   "cell_type": "markdown",
   "metadata": {},
   "source": [
    "<font size=+3>&#9998;</font> This plot will show the total explained variance ratio as a function of the number of components. Typically, the curve will be steep at first, meaning that each additional component contributes significantly to explaining the variance."
   ]
  },
  {
   "cell_type": "markdown",
   "metadata": {},
   "source": [
    "---\n",
    "### &#128721; STOP\n",
    "**Pause to commit your changes to your Git repository!**\n",
    "\n",
    "Take a moment to save your notebook, commit the changes to your Git repository `hw04_branch` using the commit message \"Committing Part 6\", and push the changes to GitHub.\n",
    "\n",
    "---"
   ]
  },
  {
   "cell_type": "markdown",
   "metadata": {},
   "source": [
    "---\n",
    "## 7. Revisiting the Perceptron classifier with code created by generative AI (12 points)\n",
    "\n",
    "After working through the Perceptron classifier in class, one of your classmates decided to try and see if they could get ChatGPT to write a Perceptron classifier that they could test out using the sonar dataset. ChatGPT produced the code provided in the Python script that you can download from here:\n",
    "\n",
    "`https://raw.githubusercontent.com/msu-cmse-courses/cmse202-supplemental-data/main/code_samples/perceptron.py`\n",
    "\n",
    "After reviewing the code, you and your classmate agree that the classifier should work, but your classmate is running into some struggles with figuring out how to pass the data to the code from ChatGPT to train and test the classifier. They've asked you to help them out.\n"
   ]
  },
  {
   "cell_type": "markdown",
   "metadata": {},
   "source": [
    "&#9989; **Do this**: Download the Python script from the URL above and add it to your repository. You should add it to the same directory as this notebook. You should also add and commit it to your repository, making sure it is in your `hw04_branch` branch.\n",
    "\n",
    "Once you've downloaded the file, put it in the right place, and committed it to your repository, you should be able to import it into this notebook and use it to train and test a Perceptron classifier.\n",
    "\n",
    "**Run the following cell to import the code from the Python script.**"
   ]
  },
  {
   "cell_type": "code",
   "execution_count": 22,
   "metadata": {},
   "outputs": [],
   "source": [
    "from perceptron import Perceptron"
   ]
  },
  {
   "cell_type": "markdown",
   "metadata": {},
   "source": [
    "**&#9989; Task 7.1 (5 points):** Create an instance of the `Perceptron` object defined by the class in the Python script using a **learning rate of 0.1** and **10 iterations**. Then, use the `fit()` to train the classifier using the training features and labels from the sonar dataset you've been using in the assignment up to this point. Finally, use the `predict()` method to predict the labels for the test features and print the accuracy score.\n",
    "\n",
    "**Hint**: the script produced by ChatGPT includes some example code that you can use to figure out how to use the `Perceptron` class. It also includes a function for printing the accuracy score that you can use, if you want, or you can use the same one you've been using previously.\n",
    "\n",
    "**Note**: You may run into an error when you try to run the fit method, you'll have to debug this error to get the provided class to work. **You should not need to change the code itself**."
   ]
  },
  {
   "cell_type": "code",
   "execution_count": 23,
   "metadata": {},
   "outputs": [
    {
     "name": "stdout",
     "output_type": "stream",
     "text": [
      "Perceptron Accuracy: 0.5192307692307693\n"
     ]
    }
   ],
   "source": [
    "# Put your code here\n",
    "import numpy as np\n",
    "X_train = np.asarray(X_train, dtype=np.float32)\n",
    "y_train = np.asarray(y_train, dtype=np.int32)\n",
    "\n",
    "# Ensure X_test is also a numpy array with a numeric type\n",
    "X_test = np.asarray(X_test, dtype=np.float32)\n",
    "\n",
    "# Now you can create an instance of Perceptron and fit it\n",
    "percept = Perceptron(learning_rate=0.1, n_iters=10)\n",
    "percept.fit(X_train, y_train)\n",
    "\n",
    "# Predict the labels for the test set and compute the accuracy\n",
    "y_pred_percept = percept.predict(X_test)\n",
    "accuracy_percept = np.mean(y_test == y_pred_percept)\n",
    "print(f\"Perceptron Accuracy: {accuracy_percept}\")\n"
   ]
  },
  {
   "cell_type": "markdown",
   "metadata": {},
   "source": [
    "**&#9989; Question 7.1 (1 points):** How well of job did the Perceptron classifier do on the sonar dataset? How does it compare to the SVC model you built in the previous parts of this assignment? Why do you think this is?"
   ]
  },
  {
   "cell_type": "markdown",
   "metadata": {},
   "source": [
    "<font size=+3>&#9998;</font> The comparison between the Perceptron classifier and the SVM model depends on the dataset and the task.SVM is generally more robust to outliers compared to the Perceptron. If there are outliers in the data, SVM may provide better generalization."
   ]
  },
  {
   "cell_type": "markdown",
   "metadata": {},
   "source": [
    "**&#9989; Task 7.2 (5 points):** Come up with a way to do your own \"grid search\" for the Perceptron classifier written by ChatGPT. **Test a range of learning rate values from 0.001 to 1.0. Experiment with 10, 100, and 1000 iterations.**  Try to find the best learning rate and number of iterations for the Perceptron.  What is the best accuracy you can get? Make sure you keep track of the learning rate and number of iterations that correspond to the best accuracy!"
   ]
  },
  {
   "cell_type": "code",
   "execution_count": 24,
   "metadata": {},
   "outputs": [
    {
     "name": "stdout",
     "output_type": "stream",
     "text": [
      "Best Accuracy: 0.7115384615384616, Learning Rate: 0.01, Iterations: 100\n"
     ]
    }
   ],
   "source": [
    "# Put your code here\n",
    "best_accuracy = 0\n",
    "best_lr = 0.01\n",
    "best_iter = 10\n",
    "\n",
    "for lr in [0.01, 0.1, 1.0]:\n",
    "    for n_iter in [10, 100, 1000]:\n",
    "        percept = Perceptron(learning_rate=lr, n_iters=n_iter)\n",
    "        percept.fit(X_train, y_train)\n",
    "        y_pred_percept = percept.predict(X_test)\n",
    "        accuracy = np.sum(y_test == y_pred_percept) / len(y_test)\n",
    "        \n",
    "        if accuracy > best_accuracy:\n",
    "            best_accuracy = accuracy\n",
    "            best_lr = lr\n",
    "            best_iter = n_iter\n",
    "\n",
    "print(f\"Best Accuracy: {best_accuracy}, Learning Rate: {best_lr}, Iterations: {best_iter}\")"
   ]
  },
  {
   "cell_type": "markdown",
   "metadata": {},
   "source": [
    "**&#9989; Question 7.2 (1 point):** If you explore the various accuracies you end up getting for the various combinations of learning rate and number of iterations, you'd probably notice that there are a number of combinations that give you the same accuracy. This suggests that perhaps the Perceptron classifier is not finding a \"converged\" solution. As a reminder, the Perceptron classifier will only converge if the data is linearly separable. Do you think the sonar dataset is linearly separable? Why or why not? (You can use some of your experience with the SVC model to help you answer this question.)"
   ]
  },
  {
   "cell_type": "markdown",
   "metadata": {},
   "source": [
    "<font size=+3>&#9998;</font> The convergence of the Perceptron classifier is influenced by the linear separability of the data. A linearly separable dataset means that the two classes can be perfectly separated by a hyperplane.It's plausible to assume that the sonar dataset may not be perfectly linearly separable. The SVM model, especially with non-linear kernels, could handle non-linear relationships in the data more effectively."
   ]
  },
  {
   "cell_type": "markdown",
   "metadata": {},
   "source": [
    "---\n",
    "### &#128721; STOP\n",
    "**Pause to commit your changes to your Git repository!**\n",
    "\n",
    "Take a moment to save your notebook, commit the changes to your Git repository `hw04_branch` using the commit message \"Committing Part 7\", and push the changes to GitHub.\n",
    "\n",
    "---"
   ]
  },
  {
   "cell_type": "markdown",
   "metadata": {},
   "source": [
    "---\n",
    "## Part 1. Continued\n",
    "\n",
    "Now that you've finished your new \"development\" on your 202 turn-in repo, you can merge your work back into your `main` branch.\n",
    "\n",
    "**&#9989; Do the following**:\n",
    "\n",
    "7. Switch back to your `main` branch. \n",
    "8. Merge your `hw04_branch` with your `main` branch. \n",
    "9. Finally, push the changes to GitHub."
   ]
  },
  {
   "cell_type": "markdown",
   "metadata": {},
   "source": [
    "---\n",
    "## Assignment wrap-up¶\n",
    "Please fill out the form that appears when you run the code below. **You must completely fill this out in order to receive credit for the assignment!**"
   ]
  },
  {
   "cell_type": "code",
   "execution_count": 25,
   "metadata": {},
   "outputs": [
    {
     "data": {
      "text/html": [
       "\n",
       "<iframe \n",
       "\tsrc=\"https://forms.office.com/r/mHUMR9xxSH\" \n",
       "\twidth=\"800px\" \n",
       "\theight=\"600px\" \n",
       "\tframeborder=\"0\" \n",
       "\tmarginheight=\"0\" \n",
       "\tmarginwidth=\"0\">\n",
       "\tLoading...\n",
       "</iframe>\n"
      ],
      "text/plain": [
       "<IPython.core.display.HTML object>"
      ]
     },
     "execution_count": 25,
     "metadata": {},
     "output_type": "execute_result"
    }
   ],
   "source": [
    "from IPython.display import HTML\n",
    "HTML(\n",
    "\"\"\"\n",
    "<iframe \n",
    "\tsrc=\"https://forms.office.com/r/mHUMR9xxSH\" \n",
    "\twidth=\"800px\" \n",
    "\theight=\"600px\" \n",
    "\tframeborder=\"0\" \n",
    "\tmarginheight=\"0\" \n",
    "\tmarginwidth=\"0\">\n",
    "\tLoading...\n",
    "</iframe>\n",
    "\"\"\"\n",
    ")"
   ]
  },
  {
   "cell_type": "markdown",
   "metadata": {},
   "source": [
    "### Congratulations, you're done!\n",
    "Submit this assignment by uploading it to the course Desire2Learn web page. Go to the \"Homework Assignments\" folder, find the submission folder for Homework 4, and upload your notebook."
   ]
  },
  {
   "cell_type": "markdown",
   "metadata": {},
   "source": [
    "&#169; Copyright 2023,  Department of Computational Mathematics, Science and Engineering at Michigan State University"
   ]
  }
 ],
 "metadata": {
  "kernelspec": {
   "display_name": "Python 3.8",
   "language": "python",
   "name": "python3"
  },
  "language_info": {
   "codemirror_mode": {
    "name": "ipython",
    "version": 3
   },
   "file_extension": ".py",
   "mimetype": "text/x-python",
   "name": "python",
   "nbconvert_exporter": "python",
   "pygments_lexer": "ipython3",
   "version": "3.8.8"
  }
 },
 "nbformat": 4,
 "nbformat_minor": 4
}
