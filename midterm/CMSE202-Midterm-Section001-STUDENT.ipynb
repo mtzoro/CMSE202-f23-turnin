{
 "cells": [
  {
   "cell_type": "markdown",
   "metadata": {},
   "source": [
    "## <p style=\"text-align: right;\"> &#9989; Linjie Ma</p>"
   ]
  },
  {
   "cell_type": "markdown",
   "metadata": {},
   "source": [
    "# CMSE 202 Midterm (Section 001 - Fall 2023)\n",
    "\n",
    "The goal of this midterm is to give you the opportunity to test out some of the skills that you've developed thus far this semester. In particular, you'll practice setting up a GitHub repository, committing and pushing repository changes, downloading data with command line tools, performing some data analysis, possibly using a new Python package, and writing a python class. You should find that you have all of the skills necessary to complete this exam with even just eight weeks of CMSE 202 under your belt!\n",
    "\n",
    "You are encouraged to look through the entire exam before you get started so that you can appropriately budget your time and understand the broad goals of the exam. Once you've read through it, try doing Parts 1 and 2 first so that you have your repository set up and you download all necessary data files as they will be necessary to complete the assigned tasks. Let your instructor know right away if you have problems downloading the data!\n",
    "\n",
    "**The exam is set up so that even if you get stuck on one part there are opportunities to get points on the other parts, so consider jumping ahead if you feel like you aren't making progress and then come back later if you have time.**\n",
    "\n",
    "**Important note about using online resources**: This exam is \"open internet\". That means that you can look up documentation, google how to accomplish certain Python tasks, etc. Being able to effectively use the internet for computational modeling and data science is a very important skill, so we want to make sure you have the opportunity to exercise that skill. **However**: The use of any person-to-person communication software is absolutely not acceptable. If you are seen accessing your email, using a chat program (e.g. Slack), or any sort of collaborative cloud storage or document software (e.g. Google Documents), you will be at risk for receiving a zero on the exam.\n",
    "\n",
    "**Keep your eyes on your screen!** Unfortunately, there isn't enough space in the room for everyone to sit at their own table so please do your best to keep your eyes on your own screen. This exam is designed to give *you* the opportunity to show the instructor what you can do and you should hold yourself accountable for maintaining a high level of academic integrity. If any of the instructors observe suspicious behavior, you will, again, risk receiving a zero.\n",
    "\n",
    "There are **42 points** possible on this exam. The point breakdowns are in the section headers and within each question."
   ]
  },
  {
   "cell_type": "markdown",
   "metadata": {},
   "source": [
    "---\n",
    "## Part 0: Academic integrity statement\n",
    "\n",
    "Read the following statement and edit the markdown text to put your name in the statement. This is your commitment to doing your own authentic work on this exam."
   ]
  },
  {
   "cell_type": "markdown",
   "metadata": {},
   "source": [
    "> I, **Linjie Ma**, affirm that this exam represents my own authetic work, without the use of any unpermitted aids or resources or person-to-person communication. I understand that this exam an an opportunity to showcase my own progress in developing and improving my computational skills and have done my best to demonstrate those skills."
   ]
  },
  {
   "cell_type": "markdown",
   "metadata": {},
   "source": [
    "---\n",
    "## Part 1: Add to your Git repository to track your progress on your exam (2 points)\n",
    "\n",
    "Before you get to far along in the exam, you're going to add it to the `cmse202-f23-turnin` repository you created in class (or in Homework 1) so that you can track your progress on the exam and preserve the final version that you turn in. In order to do this you need to\n",
    "\n",
    "**&#9989; Do the following**:\n",
    "\n",
    "1. Navigate to your `cmse202-f23-turnin` repository and create a new directory called `midterm`.\n",
    "2. Move this notebook into that **new directory** in your repository, then **add it and commit it to your repository**.\n",
    "1. Finally, to test that everything is working, \"git push\" the file so that it ends up in your GitHub repository.\n",
    "\n",
    "**Important**: Double check you've added your Professor and your TA as collaborators to your \"turnin\" respository (you should have done this in your homework assignment).\n",
    "\n",
    "**Also important**: Make sure that the version of this notebook that you are working on is the same one that you just added to your repository! If you are working on a different copy of the notebook, **none of your changes will be tracked**!\n",
    "\n",
    "If everything went as intended, the file should now show up on your GitHub account in the \"`cmse202-f23-turnin`\" repository inside the `midterm` directory that you just created.  Periodically, **you'll be asked to commit your changes to the repository and push them to the remote GitHub location**. Of course, you can always commit your changes more often than that, if you wish.  It can be good to get into a habit of committing your changes any time you make a significant modification, or when you stop working on the project for a bit.\n",
    "\n",
    "&#9989; **Do this**: Before you move on, put the command that your instructor should run to clone your repository in the markdown cell below."
   ]
  },
  {
   "cell_type": "markdown",
   "metadata": {},
   "source": [
    "``` bash\n",
    "# git clone https://github.com/mtzoro/CMSE202-f23-turnin.git\n",
    "\n",
    "```"
   ]
  },
  {
   "cell_type": "markdown",
   "metadata": {},
   "source": [
    "---\n",
    "## Part 2: Downloading and analyzing unfamiliar data (16 points)"
   ]
  },
  {
   "cell_type": "markdown",
   "metadata": {},
   "source": [
    "For this part of the exam, you're going to download and analyze a dataset that you've likely not looked at before. You'll perform some simple, exploratory analysis and create basic visualizations.\n",
    "\n",
    "In particular, you're doing to explore data for the Powerball Lottery drawings from the last 20 years or so. These data is made publicly available on the Colorado Lottery webpage: https://www.coloradolottery.com/en/player-tools/winning-history/\n",
    "\n",
    "Rather than make you download fresh data directly from the website (and in case the website is down), I've provided copy of the dataset that was downloaded on October 6, 2023.\n",
    "\n",
    "You should be able to access it here:\n",
    "\n",
    "`https://raw.githubusercontent.com/msu-cmse-courses/cmse202-supplemental-data/main/data/POWERBALL-from_0001-01-01_to_2023-10-06.xlsx`\n",
    "\n",
    "**Important note**: If you get stuck with either Question 2.3 or 2.6, there is a second dataset that you can use that contains the values generated by those questions. See the bottom of the notebook to get this dataset and the corresponding values."
   ]
  },
  {
   "cell_type": "markdown",
   "metadata": {},
   "source": [
    "&#9989; **Question 2.1 (1 point)**: **Do this now:** Save this file in the same directory as your notebook so you can load it directly. **Then, in the cell below, put the command or commands you used to download the files. If you did not use a command line tool to download the files, write down a command that *would* have fetched the files.**"
   ]
  },
  {
   "cell_type": "markdown",
   "metadata": {},
   "source": [
    "``` bash\n",
    "# curl -O https://raw.githubusercontent.com/msu-cmse-courses/cmse202-supplemental-data/main/data/POWERBALL-from_0001-01-01_to_2023-10-06.xlsx\n",
    "\n",
    "```"
   ]
  },
  {
   "cell_type": "markdown",
   "metadata": {},
   "source": [
    "&#9989; **Question 2.2 (2 points)**: To get started, **read in the `POWERBALL-from_0001-01-01_to_2023-10-06.xlsx` dataset** and then display the first 15 rows of the data using **Pandas**. Take a moment to review the columns of data that are available to you.\n",
    "\n",
    "**Important note**: This is not a CSV file, it's an Excel file, so you'll need to use a different function than what you might be used to using to read it in. But don't worry, Pandas has a built-in function for this!"
   ]
  },
  {
   "cell_type": "code",
   "execution_count": 3,
   "metadata": {},
   "outputs": [
    {
     "name": "stdout",
     "output_type": "stream",
     "text": [
      "Defaulting to user installation because normal site-packages is not writeable\n",
      "Requirement already satisfied: xlrd in /opt/anaconda3/lib/python3.8/site-packages (2.0.1)\n"
     ]
    }
   ],
   "source": [
    "!pip install xlrd"
   ]
  },
  {
   "cell_type": "code",
   "execution_count": 5,
   "metadata": {},
   "outputs": [
    {
     "name": "stdout",
     "output_type": "stream",
     "text": [
      "             Draw date Last Day To Claim         Winning Numbers  Powerball  \\\n",
      "0   Wednesday, 10/4/23        2024-04-01   9 - 35 - 54 - 63 - 64          1   \n",
      "1      Monday, 10/2/23        2024-03-30  12 - 26 - 27 - 43 - 47          5   \n",
      "2    Saturday, 9/30/23        2024-03-28  19 - 30 - 37 - 44 - 46         22   \n",
      "3   Wednesday, 9/27/23        2024-03-25    1 - 7 - 46 - 47 - 63          7   \n",
      "4      Monday, 9/25/23        2024-03-23  10 - 12 - 22 - 36 - 50          4   \n",
      "5    Saturday, 9/23/23        2024-03-21   1 - 12 - 20 - 33 - 66         21   \n",
      "6   Wednesday, 9/20/23        2024-03-18  16 - 27 - 59 - 62 - 63         23   \n",
      "7      Monday, 9/18/23        2024-03-16   2 - 21 - 26 - 40 - 42          9   \n",
      "8    Saturday, 9/16/23        2024-03-14   8 - 11 - 19 - 24 - 46          5   \n",
      "9   Wednesday, 9/13/23        2024-03-11  22 - 30 - 37 - 44 - 45         18   \n",
      "10     Monday, 9/11/23        2024-03-09   9 - 25 - 27 - 53 - 66          5   \n",
      "11    Saturday, 9/9/23        2024-03-07  11 - 19 - 29 - 63 - 68         25   \n",
      "12   Wednesday, 9/6/23        2024-03-04   9 - 14 - 20 - 23 - 63          1   \n",
      "13      Monday, 9/4/23        2024-03-02   1 - 26 - 32 - 46 - 51         13   \n",
      "14    Saturday, 9/2/23        2024-02-29  25 - 38 - 42 - 66 - 67         19   \n",
      "\n",
      "    Power Play     Jackpot  Jackpot Cash Value  Jackpot Winners  \\\n",
      "0          2.0  1200000000           551700000                0   \n",
      "1          2.0  1040000000           478200000                0   \n",
      "2          2.0   960000000           441400000                0   \n",
      "3          3.0   850000000           397400000                0   \n",
      "4          2.0   785000000           367000000                0   \n",
      "5          2.0   750000000           350600000                0   \n",
      "6          3.0   672000000           320500000                0   \n",
      "7          3.0   638000000           304200000                0   \n",
      "8          2.0   596000000           288200000                0   \n",
      "9          3.0   550000000           266000000                0   \n",
      "10         2.0   522000000           252400000                0   \n",
      "11         2.0   500000000           242400000                0   \n",
      "12         3.0   461000000           223500000                0   \n",
      "13         3.0   435000000           210900000                0   \n",
      "14         4.0   420000000           202100000                0   \n",
      "\n",
      "    Jackpot CO Winners  Match 5 Prize  ...  \\\n",
      "0                    0        1000000  ...   \n",
      "1                    0        1000000  ...   \n",
      "2                    0        1000000  ...   \n",
      "3                    0        1000000  ...   \n",
      "4                    0        1000000  ...   \n",
      "5                    0        1000000  ...   \n",
      "6                    0        1000000  ...   \n",
      "7                    0        1000000  ...   \n",
      "8                    0        1000000  ...   \n",
      "9                    0        1000000  ...   \n",
      "10                   0        1000000  ...   \n",
      "11                   0        1000000  ...   \n",
      "12                   0        1000000  ...   \n",
      "13                   0        1000000  ...   \n",
      "14                   0        1000000  ...   \n",
      "\n",
      "    Double Play Match 3 + Powerball Prize  \\\n",
      "0                                   500.0   \n",
      "1                                   500.0   \n",
      "2                                   500.0   \n",
      "3                                   500.0   \n",
      "4                                   500.0   \n",
      "5                                   500.0   \n",
      "6                                   500.0   \n",
      "7                                   500.0   \n",
      "8                                   500.0   \n",
      "9                                   500.0   \n",
      "10                                  500.0   \n",
      "11                                  500.0   \n",
      "12                                  500.0   \n",
      "13                                  500.0   \n",
      "14                                  500.0   \n",
      "\n",
      "    Double Play Match 3 + Powerball Winners  Double Play Match 3 Prize  \\\n",
      "0                                      17.0                       20.0   \n",
      "1                                      13.0                       20.0   \n",
      "2                                       7.0                       20.0   \n",
      "3                                       5.0                       20.0   \n",
      "4                                       4.0                       20.0   \n",
      "5                                       7.0                       20.0   \n",
      "6                                       7.0                       20.0   \n",
      "7                                       3.0                       20.0   \n",
      "8                                       5.0                       20.0   \n",
      "9                                       7.0                       20.0   \n",
      "10                                      4.0                       20.0   \n",
      "11                                      5.0                       20.0   \n",
      "12                                      3.0                       20.0   \n",
      "13                                      4.0                       20.0   \n",
      "14                                      6.0                       20.0   \n",
      "\n",
      "    Double Play Match 3 Winners  Double Play Match 2 + Powerball Prize  \\\n",
      "0                         327.0                                   20.0   \n",
      "1                         222.0                                   20.0   \n",
      "2                         214.0                                   20.0   \n",
      "3                         166.0                                   20.0   \n",
      "4                         113.0                                   20.0   \n",
      "5                         179.0                                   20.0   \n",
      "6                         121.0                                   20.0   \n",
      "7                          99.0                                   20.0   \n",
      "8                         140.0                                   20.0   \n",
      "9                         107.0                                   20.0   \n",
      "10                         78.0                                   20.0   \n",
      "11                        121.0                                   20.0   \n",
      "12                         70.0                                   20.0   \n",
      "13                         46.0                                   20.0   \n",
      "14                        163.0                                   20.0   \n",
      "\n",
      "    Double Play Match 2 + Powerball Winners  \\\n",
      "0                                     277.0   \n",
      "1                                     210.0   \n",
      "2                                     204.0   \n",
      "3                                     129.0   \n",
      "4                                     132.0   \n",
      "5                                     155.0   \n",
      "6                                      89.0   \n",
      "7                                      87.0   \n",
      "8                                     128.0   \n",
      "9                                      97.0   \n",
      "10                                     92.0   \n",
      "11                                     95.0   \n",
      "12                                     81.0   \n",
      "13                                     46.0   \n",
      "14                                    115.0   \n",
      "\n",
      "    Double Play Match 1 + Powerball Prize  \\\n",
      "0                                    10.0   \n",
      "1                                    10.0   \n",
      "2                                    10.0   \n",
      "3                                    10.0   \n",
      "4                                    10.0   \n",
      "5                                    10.0   \n",
      "6                                    10.0   \n",
      "7                                    10.0   \n",
      "8                                    10.0   \n",
      "9                                    10.0   \n",
      "10                                   10.0   \n",
      "11                                   10.0   \n",
      "12                                   10.0   \n",
      "13                                   10.0   \n",
      "14                                   10.0   \n",
      "\n",
      "    Double Play Match 1 + Powerball Winners  \\\n",
      "0                                    2055.0   \n",
      "1                                    1591.0   \n",
      "2                                    1616.0   \n",
      "3                                    1054.0   \n",
      "4                                     787.0   \n",
      "5                                    1113.0   \n",
      "6                                     757.0   \n",
      "7                                     640.0   \n",
      "8                                     940.0   \n",
      "9                                     688.0   \n",
      "10                                    575.0   \n",
      "11                                    749.0   \n",
      "12                                    584.0   \n",
      "13                                    509.0   \n",
      "14                                    727.0   \n",
      "\n",
      "    Double Play Match 0 + Powerball Prize  \\\n",
      "0                                     7.0   \n",
      "1                                     7.0   \n",
      "2                                     7.0   \n",
      "3                                     7.0   \n",
      "4                                     7.0   \n",
      "5                                     7.0   \n",
      "6                                     7.0   \n",
      "7                                     7.0   \n",
      "8                                     7.0   \n",
      "9                                     7.0   \n",
      "10                                    7.0   \n",
      "11                                    7.0   \n",
      "12                                    7.0   \n",
      "13                                    7.0   \n",
      "14                                    7.0   \n",
      "\n",
      "    Double Play Match 0 + Powerball Winners  \n",
      "0                                    4993.0  \n",
      "1                                    3745.0  \n",
      "2                                    3958.0  \n",
      "3                                    2373.0  \n",
      "4                                    1872.0  \n",
      "5                                    2768.0  \n",
      "6                                    1837.0  \n",
      "7                                    1453.0  \n",
      "8                                    2207.0  \n",
      "9                                    1523.0  \n",
      "10                                   1314.0  \n",
      "11                                   1896.0  \n",
      "12                                   1362.0  \n",
      "13                                   1187.0  \n",
      "14                                   1598.0  \n",
      "\n",
      "[15 rows x 61 columns]\n"
     ]
    }
   ],
   "source": [
    "### Put your code here\n",
    "import pandas as pd\n",
    "\n",
    "df = pd.read_excel(\"POWERBALL-from_0001-01-01_to_2023-10-06.xlsx\")\n",
    "\n",
    "print(df.head(15))\n"
   ]
  },
  {
   "cell_type": "markdown",
   "metadata": {},
   "source": [
    "&#9989; **Question 2.3 (2 points)**: You should notice that the first column is the \"Draw Date\" -- this is the date that the drawing of the lottery numbers took place. However, the format of this date is not very useful for making any plots of the data.\n",
    "\n",
    "In order to make plotting easier, **create a new column in the dataset called 'Date' that contains the same information as the 'Draw Date' column but as a `datetime` object.** There is a built-in Pandas function that you can use for this.\n",
    "\n",
    "Once you've done this, **display the _last_ 5 rows of the dataset and confirm that your new column has the right information.**"
   ]
  },
  {
   "cell_type": "code",
   "execution_count": 25,
   "metadata": {},
   "outputs": [
    {
     "name": "stdout",
     "output_type": "stream",
     "text": [
      "               Draw date Last Day To Claim         Winning Numbers  Powerball  \\\n",
      "2420   Saturday, 8/18/01        2002-02-14   3 - 14 - 20 - 22 - 48         17   \n",
      "2421  Wednesday, 8/15/01        2002-02-11  29 - 37 - 40 - 43 - 44          6   \n",
      "2422   Saturday, 8/11/01        2002-02-07  11 - 14 - 20 - 25 - 41          8   \n",
      "2423   Wednesday, 8/8/01        2002-02-04   2 - 10 - 25 - 37 - 41          2   \n",
      "2424    Saturday, 8/4/01        2002-01-31  16 - 20 - 24 - 26 - 46          9   \n",
      "\n",
      "      Power Play    Jackpot  Jackpot Cash Value  Jackpot Winners  \\\n",
      "2420         1.0  129100000            71997210                0   \n",
      "2421         5.0  100600000            57359420                0   \n",
      "2422         4.0   85600000            47465400                0   \n",
      "2423         2.0   75500000            41598244                0   \n",
      "2424         3.0   66700000            36714940                0   \n",
      "\n",
      "      Jackpot CO Winners  Match 5 Prize  ...  \\\n",
      "2420                   0         100000  ...   \n",
      "2421                   0         100000  ...   \n",
      "2422                   0         100000  ...   \n",
      "2423                   0         100000  ...   \n",
      "2424                   0         100000  ...   \n",
      "\n",
      "      Double Play Match 3 + Powerball Winners  Double Play Match 3 Prize  \\\n",
      "2420                                      NaN                        NaN   \n",
      "2421                                      NaN                        NaN   \n",
      "2422                                      NaN                        NaN   \n",
      "2423                                      NaN                        NaN   \n",
      "2424                                      NaN                        NaN   \n",
      "\n",
      "      Double Play Match 3 Winners  Double Play Match 2 + Powerball Prize  \\\n",
      "2420                          NaN                                    NaN   \n",
      "2421                          NaN                                    NaN   \n",
      "2422                          NaN                                    NaN   \n",
      "2423                          NaN                                    NaN   \n",
      "2424                          NaN                                    NaN   \n",
      "\n",
      "      Double Play Match 2 + Powerball Winners  \\\n",
      "2420                                      NaN   \n",
      "2421                                      NaN   \n",
      "2422                                      NaN   \n",
      "2423                                      NaN   \n",
      "2424                                      NaN   \n",
      "\n",
      "      Double Play Match 1 + Powerball Prize  \\\n",
      "2420                                    NaN   \n",
      "2421                                    NaN   \n",
      "2422                                    NaN   \n",
      "2423                                    NaN   \n",
      "2424                                    NaN   \n",
      "\n",
      "      Double Play Match 1 + Powerball Winners  \\\n",
      "2420                                      NaN   \n",
      "2421                                      NaN   \n",
      "2422                                      NaN   \n",
      "2423                                      NaN   \n",
      "2424                                      NaN   \n",
      "\n",
      "      Double Play Match 0 + Powerball Prize  \\\n",
      "2420                                    NaN   \n",
      "2421                                    NaN   \n",
      "2422                                    NaN   \n",
      "2423                                    NaN   \n",
      "2424                                    NaN   \n",
      "\n",
      "      Double Play Match 0 + Powerball Winners       Date  \n",
      "2420                                      NaN 2001-08-18  \n",
      "2421                                      NaN 2001-08-15  \n",
      "2422                                      NaN 2001-08-11  \n",
      "2423                                      NaN 2001-08-08  \n",
      "2424                                      NaN 2001-08-04  \n",
      "\n",
      "[5 rows x 62 columns]\n"
     ]
    }
   ],
   "source": [
    "### Put your code here\n",
    "data['Date'] = pd.to_datetime(data['Draw date'])\n",
    "\n",
    "print(data.tail())"
   ]
  },
  {
   "cell_type": "markdown",
   "metadata": {},
   "source": [
    "&#9989; **Question 2.4 (4 points)**: Now that you've have a useful date column, **make a plot of winning jackpot values over time in _millions of dollars_** to see how the jackpot has changed over the years. **Make sure to label your axes and give your plot a title.**"
   ]
  },
  {
   "cell_type": "code",
   "execution_count": 31,
   "metadata": {},
   "outputs": [
    {
     "data": {
      "image/png": "[encoded data removed]",
      "text/plain": [
       "<Figure size 864x432 with 1 Axes>"
      ]
     },
     "metadata": {
      "needs_background": "light"
     },
     "output_type": "display_data"
    }
   ],
   "source": [
    "### Put your code here\n",
    "import pandas as pd\n",
    "import matplotlib.pyplot as plt\n",
    "\n",
    "\n",
    "data['Jackpot in Millions'] = data['Jackpot']\n",
    "\n",
    "plt.figure(figsize=(12, 6))\n",
    "plt.plot(data['Date'], data['Jackpot in Millions'], color='g', marker='o', linestyle='-', linewidth=1, markersize=5)\n",
    "plt.title('Powerball Winning Jackpot Over Time')\n",
    "plt.xlabel('Date')\n",
    "plt.ylabel('Jackpot (Millions of Dollars)')\n",
    "plt.grid(True)\n",
    "plt.tight_layout()\n",
    "plt.show()"
   ]
  },
  {
   "cell_type": "markdown",
   "metadata": {},
   "source": [
    "&#9989; **Question 2.5 (1 point)**: Based on your plot, in roughly what year did the jackpot first exceed 1 billion dollars?"
   ]
  },
  {
   "cell_type": "markdown",
   "metadata": {},
   "source": [
    "<font size=+3>&#9998;</font> in 2016"
   ]
  },
  {
   "cell_type": "markdown",
   "metadata": {},
   "source": [
    "&#9989; **Question 2.6 (1 point)**: After reviewing the jackpot value as a function of time, which has a lot of variation, you're curious how the average jackpot for each year has changed over time to see if there's a clear trend.\n",
    "\n",
    "To achieve this, first **create a new column in the dataset called 'Year' that contains the year of the drawing**.\n",
    "\n",
    "*Hint*: You can do this using the `dt` attribute of the `datetime` column you created earlier.\n",
    "\n",
    "Display your new dataframe to confirm that you created the column correctly."
   ]
  },
  {
   "cell_type": "code",
   "execution_count": 32,
   "metadata": {},
   "outputs": [
    {
     "name": "stdout",
     "output_type": "stream",
     "text": [
      "            Draw date Last Day To Claim         Winning Numbers  Powerball  \\\n",
      "0  Wednesday, 10/4/23        2024-04-01   9 - 35 - 54 - 63 - 64          1   \n",
      "1     Monday, 10/2/23        2024-03-30  12 - 26 - 27 - 43 - 47          5   \n",
      "2   Saturday, 9/30/23        2024-03-28  19 - 30 - 37 - 44 - 46         22   \n",
      "3  Wednesday, 9/27/23        2024-03-25    1 - 7 - 46 - 47 - 63          7   \n",
      "4     Monday, 9/25/23        2024-03-23  10 - 12 - 22 - 36 - 50          4   \n",
      "\n",
      "   Power Play     Jackpot  Jackpot Cash Value  Jackpot Winners  \\\n",
      "0         2.0  1200000000           551700000                0   \n",
      "1         2.0  1040000000           478200000                0   \n",
      "2         2.0   960000000           441400000                0   \n",
      "3         3.0   850000000           397400000                0   \n",
      "4         2.0   785000000           367000000                0   \n",
      "\n",
      "   Jackpot CO Winners  Match 5 Prize  ...  Double Play Match 3 Winners  \\\n",
      "0                   0        1000000  ...                        327.0   \n",
      "1                   0        1000000  ...                        222.0   \n",
      "2                   0        1000000  ...                        214.0   \n",
      "3                   0        1000000  ...                        166.0   \n",
      "4                   0        1000000  ...                        113.0   \n",
      "\n",
      "   Double Play Match 2 + Powerball Prize  \\\n",
      "0                                   20.0   \n",
      "1                                   20.0   \n",
      "2                                   20.0   \n",
      "3                                   20.0   \n",
      "4                                   20.0   \n",
      "\n",
      "   Double Play Match 2 + Powerball Winners  \\\n",
      "0                                    277.0   \n",
      "1                                    210.0   \n",
      "2                                    204.0   \n",
      "3                                    129.0   \n",
      "4                                    132.0   \n",
      "\n",
      "   Double Play Match 1 + Powerball Prize  \\\n",
      "0                                   10.0   \n",
      "1                                   10.0   \n",
      "2                                   10.0   \n",
      "3                                   10.0   \n",
      "4                                   10.0   \n",
      "\n",
      "   Double Play Match 1 + Powerball Winners  \\\n",
      "0                                   2055.0   \n",
      "1                                   1591.0   \n",
      "2                                   1616.0   \n",
      "3                                   1054.0   \n",
      "4                                    787.0   \n",
      "\n",
      "   Double Play Match 0 + Powerball Prize  \\\n",
      "0                                    7.0   \n",
      "1                                    7.0   \n",
      "2                                    7.0   \n",
      "3                                    7.0   \n",
      "4                                    7.0   \n",
      "\n",
      "   Double Play Match 0 + Powerball Winners       Date  Jackpot in Millions  \\\n",
      "0                                   4993.0 2023-10-04           1200000000   \n",
      "1                                   3745.0 2023-10-02           1040000000   \n",
      "2                                   3958.0 2023-09-30            960000000   \n",
      "3                                   2373.0 2023-09-27            850000000   \n",
      "4                                   1872.0 2023-09-25            785000000   \n",
      "\n",
      "   Year  \n",
      "0  2023  \n",
      "1  2023  \n",
      "2  2023  \n",
      "3  2023  \n",
      "4  2023  \n",
      "\n",
      "[5 rows x 64 columns]\n"
     ]
    }
   ],
   "source": [
    "### Put your code here\n",
    "data['Year'] = data['Date'].dt.year\n",
    "\n",
    "print(data.head())\n"
   ]
  },
  {
   "cell_type": "markdown",
   "metadata": {},
   "source": [
    "&#9989; **Question 2.7 (2 points)**: Now, **calculate the average jackpot value for each year**. *Hint*: You can do this using pretty quickly by using the `groupby` function in Pandas, but if you can't get that to work, you can use any approach you wish. **Display the result**."
   ]
  },
  {
   "cell_type": "code",
   "execution_count": 33,
   "metadata": {},
   "outputs": [
    {
     "name": "stdout",
     "output_type": "stream",
     "text": [
      "Year\n",
      "2001    4.250930e+07\n",
      "2002    4.243654e+07\n",
      "2003    5.916857e+07\n",
      "2004    5.488365e+07\n",
      "2005    5.608667e+07\n",
      "2006    8.194615e+07\n",
      "2007    6.780577e+07\n",
      "2008    6.476952e+07\n",
      "2009    7.917115e+07\n",
      "2010    7.081635e+07\n",
      "2011    7.560000e+07\n",
      "2012    1.092856e+08\n",
      "2013    1.213442e+08\n",
      "2014    1.033771e+08\n",
      "2015    1.171788e+08\n",
      "2016    1.879943e+08\n",
      "2017    1.710635e+08\n",
      "2018    1.767721e+08\n",
      "2019    1.595279e+08\n",
      "2020    1.228029e+08\n",
      "2021    2.206829e+08\n",
      "2022    2.137076e+08\n",
      "2023    3.172185e+08\n",
      "Name: Jackpot, dtype: float64\n"
     ]
    }
   ],
   "source": [
    "### Put your code here\n",
    "average_jackpot_by_year = data.groupby('Year')['Jackpot'].mean()\n",
    "\n",
    "print(average_jackpot_by_year)\n"
   ]
  },
  {
   "cell_type": "markdown",
   "metadata": {},
   "source": [
    "&#9989; **Question 2.8 (2 points)**: Finally, explore how the average jackpot value has changed over time by make a plot of the average jackpot value as a function of the years. **Make sure to label your axes and give your plot a title.**"
   ]
  },
  {
   "cell_type": "code",
   "execution_count": 34,
   "metadata": {},
   "outputs": [
    {
     "data": {
      "image/png": "[encoded data removed]",
      "text/plain": [
       "<Figure size 720x432 with 1 Axes>"
      ]
     },
     "metadata": {
      "needs_background": "light"
     },
     "output_type": "display_data"
    }
   ],
   "source": [
    "### Put your code here\n",
    "\n",
    "plt.figure(figsize=(10, 6))\n",
    "plt.plot(average_jackpot_by_year.index, average_jackpot_by_year.values, color='b', marker='o', linestyle='-', linewidth=2, markersize=8)\n",
    "plt.title('Average Powerball Jackpot Over Years')\n",
    "plt.xlabel('Year')\n",
    "plt.ylabel('Average Jackpot')\n",
    "plt.grid(True)\n",
    "plt.tight_layout()\n",
    "plt.show()\n"
   ]
  },
  {
   "cell_type": "markdown",
   "metadata": {},
   "source": [
    "&#9989; **Question 2.9 (1 points)**: Now that you have a plot of the mean jackpot over time, comment on the general trend and any significant deviations from that trend that you observe."
   ]
  },
  {
   "cell_type": "markdown",
   "metadata": {},
   "source": [
    "<font size=+3>&#9998;</font> The probability of exceeding 1 billion dollars increased after 2015"
   ]
  },
  {
   "cell_type": "markdown",
   "metadata": {},
   "source": [
    "---\n",
    "### &#128721; STOP\n",
    "**Pause to commit your changes to your Git repository!**\n",
    "\n",
    "Take a moment to save your notebook, commit the changes to your Git repository using the commit message \"**Committing Part 2**\", and push the changes to GitHub."
   ]
  },
  {
   "cell_type": "markdown",
   "metadata": {},
   "source": [
    "---\n",
    "## Part 3: Working with a new Python package (12 points)"
   ]
  },
  {
   "cell_type": "markdown",
   "metadata": {},
   "source": [
    "In this part of the exam you will work with a python package that you likely do not have any (or relatively little) experience with. You will need to do your best to read the documentation and look at examples in order to use this package. You may also need to install the package."
   ]
  },
  {
   "cell_type": "markdown",
   "metadata": {},
   "source": [
    "In particular, you are going to try and make a \"waffle chart\" using the [PyWaffle](https://pywaffle.readthedocs.io/en/latest/index.html) package. The documentation for this package is here: https://pywaffle.readthedocs.io/en/latest/\n",
    "\n",
    "A waffle chart is an alternative to the pie chart that is often used to show percentages. You can read more about waffle charts here: https://baryon.be/uncommon-chart-types-waffle-charts/ "
   ]
  },
  {
   "cell_type": "markdown",
   "metadata": {},
   "source": [
    "&#9989; **Question 3.1 (2 points)**: Unfortunately, `pywaffle` is not already included with Anaconda. However, you should be able to install the package in the same way we have used previously to install Python packages.\n",
    "\n",
    "**Do this: Install the `pywaffle` Python package.**\n",
    "\n",
    "What command did you use to install `pywaffle`? **Include this command in the Markdown cell below.**"
   ]
  },
  {
   "cell_type": "markdown",
   "metadata": {},
   "source": [
    "``` bash\n",
    "# pip install pywaffle\n",
    "\n",
    "```"
   ]
  },
  {
   "cell_type": "markdown",
   "metadata": {},
   "source": [
    "Once `pywaffle` is installed, running the following cell should not result in an error message. You might need to re-start your Jupyter kernel after installing the package for this to work. (Once everything works, it should give you no output at all.)"
   ]
  },
  {
   "cell_type": "code",
   "execution_count": 36,
   "metadata": {},
   "outputs": [
    {
     "name": "stdout",
     "output_type": "stream",
     "text": [
      "Defaulting to user installation because normal site-packages is not writeable\n",
      "Collecting pywaffle\n",
      "  Downloading pywaffle-1.1.0-py2.py3-none-any.whl (30 kB)\n",
      "Requirement already satisfied: matplotlib in /home/malinjie/.local/lib/python3.8/site-packages (from pywaffle) (3.7.1)\n",
      "Collecting fontawesomefree\n",
      "  Downloading fontawesomefree-6.4.2-py3-none-any.whl (25.3 MB)\n",
      "\u001b[K     |████████████████████████████████| 25.3 MB 30.1 MB/s eta 0:00:01\n",
      "\u001b[?25hRequirement already satisfied: packaging>=20.0 in /opt/anaconda3/lib/python3.8/site-packages (from matplotlib->pywaffle) (20.9)\n",
      "Requirement already satisfied: pyparsing>=2.3.1 in /opt/anaconda3/lib/python3.8/site-packages (from matplotlib->pywaffle) (2.4.7)\n",
      "Requirement already satisfied: fonttools>=4.22.0 in /home/malinjie/.local/lib/python3.8/site-packages (from matplotlib->pywaffle) (4.42.1)\n",
      "Requirement already satisfied: contourpy>=1.0.1 in /home/malinjie/.local/lib/python3.8/site-packages (from matplotlib->pywaffle) (1.1.0)\n",
      "Requirement already satisfied: python-dateutil>=2.7 in /opt/anaconda3/lib/python3.8/site-packages (from matplotlib->pywaffle) (2.8.1)\n",
      "Requirement already satisfied: numpy>=1.20 in /opt/anaconda3/lib/python3.8/site-packages (from matplotlib->pywaffle) (1.20.1)\n",
      "Requirement already satisfied: pillow>=6.2.0 in /opt/anaconda3/lib/python3.8/site-packages (from matplotlib->pywaffle) (8.2.0)\n",
      "Requirement already satisfied: cycler>=0.10 in /opt/anaconda3/lib/python3.8/site-packages (from matplotlib->pywaffle) (0.10.0)\n",
      "Requirement already satisfied: kiwisolver>=1.0.1 in /opt/anaconda3/lib/python3.8/site-packages (from matplotlib->pywaffle) (1.3.1)\n",
      "Requirement already satisfied: importlib-resources>=3.2.0 in /opt/anaconda3/lib/python3.8/site-packages (from matplotlib->pywaffle) (5.9.0)\n",
      "Requirement already satisfied: six in /opt/anaconda3/lib/python3.8/site-packages (from cycler>=0.10->matplotlib->pywaffle) (1.15.0)\n",
      "Requirement already satisfied: zipp>=3.1.0 in /opt/anaconda3/lib/python3.8/site-packages (from importlib-resources>=3.2.0->matplotlib->pywaffle) (3.4.1)\n",
      "Installing collected packages: fontawesomefree, pywaffle\n",
      "Successfully installed fontawesomefree-6.4.2 pywaffle-1.1.0\n"
     ]
    }
   ],
   "source": [
    "!pip install pywaffle"
   ]
  },
  {
   "cell_type": "code",
   "execution_count": 37,
   "metadata": {},
   "outputs": [],
   "source": [
    "# Running this cell should just work and not yield any output if `pywaffle` is installed and available\n",
    "from pywaffle import Waffle"
   ]
  },
  {
   "cell_type": "markdown",
   "metadata": {},
   "source": [
    "Since you'll need some data to make your waffle chart, you're going to continue using the Powerball dataset from Part 2. If you haven't done Part 2 yet or ran into issues, you can use the dataset provided at the end of this notebook (along with the command to load the data), which is a reduced version of the full dataset.\n",
    "\n",
    "&#9989; **Question 3.2 (1 point)**: Before diving into making the waffle chart, **mask the dataframe so that you only have a new dataframe that only contains data from the year 2013 onward** (2013-2023)."
   ]
  },
  {
   "cell_type": "code",
   "execution_count": 38,
   "metadata": {},
   "outputs": [],
   "source": [
    "### Put your code here\n",
    "masked_data = data[data['Year'] >= 2013]"
   ]
  },
  {
   "cell_type": "markdown",
   "metadata": {},
   "source": [
    "&#9989; **Question 3.3 (1 point)**: Now that you have just the last 10 years of data, filter the data again so that have a new dataframe that only has all the rows in which there was at least one winner for the jackpot. *Hint*: The \"Jackpot Winners\" column contains this information."
   ]
  },
  {
   "cell_type": "code",
   "execution_count": 40,
   "metadata": {},
   "outputs": [],
   "source": [
    "### Put your code here\n",
    "filtered_data = masked_data[masked_data['Jackpot Winners'] >= 1]"
   ]
  },
  {
   "cell_type": "markdown",
   "metadata": {},
   "source": [
    "&#9989; **Question 3.4 (4 points with possible bonus point)**: Now that you have all the jackpot winners since 2013, you're going to make a waffle chart to show how many winners there were for each year. \n",
    "\n",
    "First, **determine the number of winners there were in each year** and store this information in a new Pandas Series, list, or an array (whichever format you prefer). *Hint*: There is a Pandas method can can help you to count the number of winners for each year, but there are other ways to do this as well.\n",
    "\n",
    "Then, **make a waffle chart with 8 rows and 11 columns that shows the number of jackpot winners for each year.** You should be able to do this by exploring the documentation on the PyWaffle website and by reviewing some of the examples. **Make sure your waffle chart has a legend that you know which years correspond to which values**\n",
    "\n",
    "You should get something that looks like this:\n",
    "\n",
    "<img src=\"https://github.com/msu-cmse-courses/cmse202-supplemental-data/blob/main/images/winners_by_year.png?raw=true\" width=400>\n",
    "\n",
    "**Bonus point**: Depending on how you did this, your years might not be sorted in order in the legend. If you can figure out how to sort the legend, you'll get a bonus point!"
   ]
  },
  {
   "cell_type": "code",
   "execution_count": 43,
   "metadata": {},
   "outputs": [
    {
     "data": {
      "image/png": "[encoded data removed]",
      "text/plain": [
       "<Waffle size 720x432 with 1 Axes>"
      ]
     },
     "metadata": {
      "needs_background": "light"
     },
     "output_type": "display_data"
    }
   ],
   "source": [
    "### Put your code here\n",
    "from pywaffle import Waffle\n",
    "\n",
    "\n",
    "winners_by_year = filtered_data.groupby('Year')['Jackpot Winners'].sum()\n",
    "\n",
    "fig = plt.figure(\n",
    "    FigureClass=Waffle,\n",
    "    rows=8,\n",
    "    columns=11,\n",
    "    values=winners_by_year,\n",
    "    labels=[f\"{year}: {count}\" for year, count in winners_by_year.items()],\n",
    "    legend={'loc': 'lower left', 'bbox_to_anchor': (0, -0.4), 'ncol': len(winners_by_year), 'framealpha': 0},\n",
    "    figsize=(10, 6)\n",
    ")\n",
    "\n",
    "plt.show()\n"
   ]
  },
  {
   "cell_type": "markdown",
   "metadata": {},
   "source": [
    "&#9989; **Question 3.5 (2 points)**: That waffle chart looks pretty cool, but it's not ideal that the colors repeat after the first 8 years. Figure out how to **change the colormap for the waffle chart** and **change it to a new color map so that there are no repeated colors**. Make sure you still **include a legend** so that you know which years correspond to which colors."
   ]
  },
  {
   "cell_type": "code",
   "execution_count": 46,
   "metadata": {},
   "outputs": [
    {
     "name": "stderr",
     "output_type": "stream",
     "text": [
      "<ipython-input-46-8823ba93d6ae>:7: MatplotlibDeprecationWarning: The get_cmap function was deprecated in Matplotlib 3.7 and will be removed two minor releases later. Use ``matplotlib.colormaps[name]`` or ``matplotlib.colormaps.get_cmap(obj)`` instead.\n",
      "  colormap = plt.cm.get_cmap('tab20c', len(winners_by_year)).all\n"
     ]
    },
    {
     "ename": "AttributeError",
     "evalue": "'ListedColormap' object has no attribute 'all'",
     "output_type": "error",
     "traceback": [
      "\u001b[0;31m---------------------------------------------------------------------------\u001b[0m",
      "\u001b[0;31mAttributeError\u001b[0m                            Traceback (most recent call last)",
      "\u001b[0;32m<ipython-input-46-8823ba93d6ae>\u001b[0m in \u001b[0;36m<module>\u001b[0;34m\u001b[0m\n\u001b[1;32m      5\u001b[0m \u001b[0mwinners_by_year\u001b[0m \u001b[0;34m=\u001b[0m \u001b[0mfiltered_data\u001b[0m\u001b[0;34m.\u001b[0m\u001b[0mgroupby\u001b[0m\u001b[0;34m(\u001b[0m\u001b[0;34m'Year'\u001b[0m\u001b[0;34m)\u001b[0m\u001b[0;34m[\u001b[0m\u001b[0;34m'Jackpot Winners'\u001b[0m\u001b[0;34m]\u001b[0m\u001b[0;34m.\u001b[0m\u001b[0msum\u001b[0m\u001b[0;34m(\u001b[0m\u001b[0;34m)\u001b[0m\u001b[0;34m\u001b[0m\u001b[0;34m\u001b[0m\u001b[0m\n\u001b[1;32m      6\u001b[0m \u001b[0;34m\u001b[0m\u001b[0m\n\u001b[0;32m----> 7\u001b[0;31m \u001b[0mcolormap\u001b[0m \u001b[0;34m=\u001b[0m \u001b[0mplt\u001b[0m\u001b[0;34m.\u001b[0m\u001b[0mcm\u001b[0m\u001b[0;34m.\u001b[0m\u001b[0mget_cmap\u001b[0m\u001b[0;34m(\u001b[0m\u001b[0;34m'tab20c'\u001b[0m\u001b[0;34m,\u001b[0m \u001b[0mlen\u001b[0m\u001b[0;34m(\u001b[0m\u001b[0mwinners_by_year\u001b[0m\u001b[0;34m)\u001b[0m\u001b[0;34m)\u001b[0m\u001b[0;34m.\u001b[0m\u001b[0mall\u001b[0m\u001b[0;34m\u001b[0m\u001b[0;34m\u001b[0m\u001b[0m\n\u001b[0m\u001b[1;32m      8\u001b[0m \u001b[0;34m\u001b[0m\u001b[0m\n\u001b[1;32m      9\u001b[0m fig = plt.figure(\n",
      "\u001b[0;31mAttributeError\u001b[0m: 'ListedColormap' object has no attribute 'all'"
     ]
    }
   ],
   "source": [
    "### Put your code here\n",
    "\n",
    "from pywaffle import Waffle\n",
    "\n",
    "winners_by_year = filtered_data.groupby('Year')['Jackpot Winners'].sum()\n",
    "\n",
    "colormap = plt.cm.get_cmap('tab20c', len(winners_by_year)).an\n",
    "\n",
    "fig = plt.figure(\n",
    "    FigureClass=Waffle,\n",
    "    rows=8,\n",
    "    columns=11,\n",
    "    values=winners_by_year,\n",
    "    title={'label': 'Powerball Jackpot Winners by Year', 'loc': 'left'},\n",
    "    labels=[f\"{year}: {count}\" for year, count in winners_by_year.items()],\n",
    "    legend={'loc': 'lower left', 'bbox_to_anchor': (0, -0.4), 'ncol': len(winners_by_year), 'framealpha': 0},\n",
    "    figsize=(10, 6),\n",
    "    colors=colormap.colors\n",
    ")\n",
    "\n",
    "plt.show()\n"
   ]
  },
  {
   "cell_type": "markdown",
   "metadata": {},
   "source": [
    "&#9989; **Question 3.6 (2 points)**: Finally, **make another modification to the waffle chart that changes the visual appearance and _improves_ the plot in some way**. You can choose to make any sort of modification you want and can use the documentation for PyWaffle to come up with ideas.\n",
    "\n",
    "After you make the modification, **explain why you think it improves the plot in the Markdown cell below**."
   ]
  },
  {
   "cell_type": "code",
   "execution_count": null,
   "metadata": {},
   "outputs": [],
   "source": [
    "### Put your code here\n"
   ]
  },
  {
   "cell_type": "markdown",
   "metadata": {},
   "source": [
    "<font size=+3>&#9998;</font> _Explain how your modification improves the plot here._"
   ]
  },
  {
   "cell_type": "markdown",
   "metadata": {},
   "source": [
    "---\n",
    "### &#128721; STOP\n",
    "**Pause to commit your changes to your Git repository!**\n",
    "\n",
    "Take a moment to save your notebook, commit the changes to your Git repository using the commit message \"**Committing Part 3**\", and push the changes to GitHub."
   ]
  },
  {
   "cell_type": "markdown",
   "metadata": {},
   "source": [
    "---\n",
    "## Part 4: Writing and using Python classes (12 points)"
   ]
  },
  {
   "cell_type": "markdown",
   "metadata": {},
   "source": [
    "In this part of the exam, you'll start off with a partially functioning Python class and then you'll modify and add to it.\n",
    "\n",
    "Staying on theme with the exam, the class you'll work with is called `Powerball` and it is currently designed to be able to perform a single Powerball drawing. If you're not familiar with the Powerball lottery. The game involves drawing 5 white balls from a set of 69 balls and then drawing one red \"powerball\" from a set of 26 balls.\n",
    "\n",
    "At the moment, the class sets up two attributes when it is initialized, `white_balls` and `red_ball`, which represent all possible numbers than can be drawn for the normal balls and the powerball. It currently has one method, `draw`, which randomly selects 5 numbers from the white balls and one number from the red balls."
   ]
  },
  {
   "cell_type": "markdown",
   "metadata": {},
   "source": [
    "&#9989; **Make sure you execute the following two cells to ensure that the provided code is working**:"
   ]
  },
  {
   "cell_type": "code",
   "execution_count": null,
   "metadata": {},
   "outputs": [],
   "source": [
    "import numpy as np\n",
    "\n",
    "class Powerball:\n",
    "    '''\n",
    "    This class is designed to represent a Powerball lottery drawing.\n",
    "    '''\n",
    "\n",
    "    def __init__(self):\n",
    "        '''\n",
    "        Initialize the Powerball drawing with the possible white balls\n",
    "        and possible red ball.\n",
    "        '''\n",
    "        self.white_balls = np.arange(1, 70)\n",
    "        self.red_ball = np.arange(1, 27)\n",
    "\n",
    "    def draw(self):\n",
    "        '''\n",
    "        Draw a set of five white balls and one red ball from the set of\n",
    "        possible balls.\n",
    "        '''\n",
    "        five_balls = np.random.choice(self.white_balls, 5)\n",
    "        red_ball = np.random.choice(self.red_ball)\n",
    "        return five_balls, red_ball"
   ]
  },
  {
   "cell_type": "code",
   "execution_count": null,
   "metadata": {},
   "outputs": [],
   "source": [
    "# This tests the Powerball class and the `draw` method\n",
    "powerball = Powerball()\n",
    "whites, red = powerball.draw()\n",
    "print(\"Normal balls:\", whites)\n",
    "print(\"Powerball:\", red)"
   ]
  },
  {
   "cell_type": "markdown",
   "metadata": {},
   "source": [
    "**Before moving on to your modifications of this class, review the following note and testing code:**\n",
    "\n",
    "The original writer of the class was worried that it might be possible to draw the same number twice for the white balls. To look for this they wrote the following test, included in the cell below. **Run the test below and look at the output.** You'll be asked to fix this issue when you begin modifying the class."
   ]
  },
  {
   "cell_type": "code",
   "execution_count": null,
   "metadata": {},
   "outputs": [],
   "source": [
    "def check_for_dupes():\n",
    "    for i in range(100):\n",
    "        five_balls, red_ball = powerball.draw()\n",
    "        unique_balls = np.unique(five_balls)\n",
    "        if len(unique_balls) != 5:\n",
    "            print(\"Duplicate balls found!\")\n",
    "            print(five_balls)\n",
    "            return True\n",
    "dupes = check_for_dupes()\n"
   ]
  },
  {
   "cell_type": "markdown",
   "metadata": {},
   "source": [
    "### Enhancing the Powerball class\n",
    "\n",
    "&#9989; **Question 4.1 (12 points)**: A copy of the original class is provided below. Modify this version of the Powerball class to achieve the following:\n",
    "\n",
    "1. Fix the issue that the original author noticed in which two (or more) of the same white ball are drawn (see the result of the above test). There's more than one way to do this. Pursue the approach that makes the most sense to you.\n",
    "2. Add a new attribute to the class called `jackpot`. This value should be set when the class is initialized using a value provided by the user and should be set to `None` by default so that if a value is not specified, a Powerball object can still be created.\n",
    "3. Add a new method called `calculate_cash_payout` that uses the `jackpot` attribute to calculate what the cash payout would be if someone wins that jackpot. The cash payout is 46% of the jackpot value. Set a default argument for this method that sets the fraction of the cash payout to be `0.46`. This method should return the cash payout value (which is the jackpot value times the fraction of the cash payout).\n",
    "4. Right now the white balls do not come out sorted, which is not ideal. Modify the `draw` method to change this so the white balls are sorted in ascending order before they are returned.\n",
    "5. Add a new method called `draw_winning_numbers` that uses the `draw` method to draw a set of winning numbers and stores the result as two new attributes `winning_whites` which should be an array of the 5 white balls and `winning_red` which should be the red ball. This method does not need to return anything.\n",
    "6. Add a new method called `check_numbers` that takes in a list of 5 white balls and a red ball and checks to see if the numbers match the winning numbers (which you should now have as attributes in your class). If they do, it should return `True`, otherwise it should return `False`."
   ]
  },
  {
   "cell_type": "code",
   "execution_count": null,
   "metadata": {},
   "outputs": [],
   "source": [
    "### Modify the Powerball class based on the directions above\n",
    "class Powerball:\n",
    "    '''\n",
    "    This class is designed to represent a Powerball lottery drawing.\n",
    "    '''\n",
    "\n",
    "    def __init__(self):\n",
    "        '''\n",
    "        Initialize the Powerball drawing with the possible white balls\n",
    "        and possible red ball.\n",
    "        '''\n",
    "        self.white_balls = np.arange(1, 70)\n",
    "        self.red_ball = np.arange(1, 27)\n",
    "\n",
    "    def draw(self):\n",
    "        '''\n",
    "        Draw a set of five white balls and one red ball from the set of\n",
    "        possible balls.\n",
    "        '''\n",
    "        five_balls = np.random.choice(self.white_balls, 5)\n",
    "        red_ball = np.random.choice(self.red_ball)\n",
    "        return five_balls, red_ball"
   ]
  },
  {
   "cell_type": "markdown",
   "metadata": {},
   "source": [
    "#### Testing your code\n",
    "\n",
    "As you work on your code, you can test it by running the following cell.  If your code is correct, you should see the following output:\n",
    "\n",
    "```\n",
    "Normal balls: [ 9 41 47 48 60] (this one will be different for you because it's random)\n",
    "Powerball: 20 (this one will be different for you because it's random)\n",
    "No duplicates found!\n",
    "The jackpot is $2500000\n",
    "The cash payout is $1150000\n",
    "The cash payout is $1875000\n",
    "The winning numbers are: [ 5 11 14 47 67] 22\n",
    "Sorry, you did not win the jackpot.\n",
    "Congratulations, you won the jackpot!\n",
    "```"
   ]
  },
  {
   "cell_type": "code",
   "execution_count": null,
   "metadata": {},
   "outputs": [],
   "source": [
    "powerball = Powerball()\n",
    "whites, red = powerball.draw()\n",
    "print(\"Normal balls:\", whites)\n",
    "print(\"Powerball:\", red)\n",
    "\n",
    "dupes = check_for_dupes()\n",
    "if not dupes: print(\"No duplicates found!\")\n",
    "\n",
    "np.random.seed(202)\n",
    "powerball_with_jackpot = Powerball(jackpot=2.5e6)\n",
    "whites, red = powerball_with_jackpot.draw()\n",
    "\n",
    "print(\"The jackpot is $%0.0f\" %powerball_with_jackpot.jackpot)\n",
    "print(\"The cash payout is $%0.0f\" %powerball_with_jackpot.calculate_cash_payout())\n",
    "print(\"The cash payout is $%0.0f\" %powerball_with_jackpot.calculate_cash_payout(percent=0.75))\n",
    "\n",
    "powerball_with_jackpot.draw_winning_numbers()\n",
    "print(\"The winning numbers are:\", powerball_with_jackpot.winning_whites, powerball_with_jackpot.winning_red)\n",
    "if not powerball_with_jackpot.check_numbers(whites, red):\n",
    "    print(\"Sorry, you did not win the jackpot.\")\n",
    "if powerball_with_jackpot.check_numbers(powerball_with_jackpot.winning_whites, powerball_with_jackpot.winning_red):\n",
    "    print(\"Congratulations, you won the jackpot!\")"
   ]
  },
  {
   "cell_type": "markdown",
   "metadata": {},
   "source": [
    "---\n",
    "### &#128721; STOP\n",
    "**Pause to commit your changes to your Git repository!**\n",
    "\n",
    "Take a moment to save your notebook, commit the changes to your Git repository using the commit message \"**Committing Part 4**\", and push the changes to GitHub.\n",
    "\n",
    "---"
   ]
  },
  {
   "cell_type": "markdown",
   "metadata": {},
   "source": [
    "## You're done! Congrats on finishing your CMSE 202 Midterm!\n",
    "\n",
    "Make sure all of your changes to your repository are committed and pushed to GitHub. Also upload a copy of this notebook to the dropbox on D2L in case something went wrong with your repository or if you couldn't get the repository to work."
   ]
  },
  {
   "cell_type": "markdown",
   "metadata": {},
   "source": [
    "---\n",
    "---\n",
    "## Back-up data for if you get stuck on Questions 2.3 or 2.6 or need it for Part 3\n",
    "\n",
    "You can grab a reduced version of the dataset that contains the datetime and year columns:\n",
    "\n",
    "`https://raw.githubusercontent.com/msu-cmse-courses/cmse202-supplemental-data/main/data/powerball_reduced.csv`\n",
    "\n",
    "(or grab it from D2L, if you're not sure how to download it from the above link)\n",
    "\n",
    "Then you can run the following cell to get a dataframe with the datetime and year columns:"
   ]
  },
  {
   "cell_type": "code",
   "execution_count": null,
   "metadata": {},
   "outputs": [],
   "source": [
    "powerball_reduced = pd.read_csv('powerball_reduced.csv',parse_dates=[9])\n",
    "powerball_reduced"
   ]
  },
  {
   "cell_type": "markdown",
   "metadata": {},
   "source": [
    "Good luck with the rest of the exam!"
   ]
  }
 ],
 "metadata": {
  "kernelspec": {
   "display_name": "Python 3.8",
   "language": "python",
   "name": "python3"
  },
  "language_info": {
   "codemirror_mode": {
    "name": "ipython",
    "version": 3
   },
   "file_extension": ".py",
   "mimetype": "text/x-python",
   "name": "python",
   "nbconvert_exporter": "python",
   "pygments_lexer": "ipython3",
   "version": "3.8.8"
  }
 },
 "nbformat": 4,
 "nbformat_minor": 4
}
